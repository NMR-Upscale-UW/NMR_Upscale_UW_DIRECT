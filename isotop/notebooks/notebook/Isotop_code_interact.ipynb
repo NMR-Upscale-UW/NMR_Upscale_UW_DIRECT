{
  "cells": [
    {
      "cell_type": "markdown",
      "metadata": {
        "id": "7DCdH75R56Vb"
      },
      "source": [
        "## Pip installing needed libraries "
      ]
    },
    {
      "cell_type": "code",
      "execution_count": 1,
      "metadata": {
        "colab": {
          "base_uri": "https://localhost:8080/"
        },
        "id": "a4Gv1bJo55kz",
        "outputId": "0d39013f-b0b0-4b23-89dd-2a628b4b61d7"
      },
      "outputs": [
        {
          "output_type": "stream",
          "name": "stdout",
          "text": [
            "\u001b[2K     \u001b[90m━━━━━━━━━━━━━━━━━━━━━━━━━━━━━━━━━━━━━━━\u001b[0m \u001b[32m499.6/499.6 kB\u001b[0m \u001b[31m9.7 MB/s\u001b[0m eta \u001b[36m0:00:00\u001b[0m\n",
            "\u001b[2K     \u001b[90m━━━━━━━━━━━━━━━━━━━━━━━━━━━━━━━━━━━━━━━━\u001b[0m \u001b[32m81.0/81.0 kB\u001b[0m \u001b[31m9.8 MB/s\u001b[0m eta \u001b[36m0:00:00\u001b[0m\n",
            "\u001b[2K     \u001b[90m━━━━━━━━━━━━━━━━━━━━━━━━━━━━━━━━━━━━━━━\u001b[0m \u001b[32m390.6/390.6 kB\u001b[0m \u001b[31m6.9 MB/s\u001b[0m eta \u001b[36m0:00:00\u001b[0m\n",
            "\u001b[2K     \u001b[90m━━━━━━━━━━━━━━━━━━━━━━━━━━━━━━━━━━━━━━\u001b[0m \u001b[32m224.5/224.5 kB\u001b[0m \u001b[31m21.7 MB/s\u001b[0m eta \u001b[36m0:00:00\u001b[0m\n",
            "\u001b[2K     \u001b[90m━━━━━━━━━━━━━━━━━━━━━━━━━━━━━━━━━━━━━━━━\u001b[0m \u001b[32m78.7/78.7 kB\u001b[0m \u001b[31m7.9 MB/s\u001b[0m eta \u001b[36m0:00:00\u001b[0m\n",
            "\u001b[2K     \u001b[90m━━━━━━━━━━━━━━━━━━━━━━━━━━━━━━━━━━━━━━━\u001b[0m \u001b[32m532.2/532.2 kB\u001b[0m \u001b[31m9.5 MB/s\u001b[0m eta \u001b[36m0:00:00\u001b[0m\n",
            "\u001b[2K     \u001b[90m━━━━━━━━━━━━━━━━━━━━━━━━━━━━━━━━━━━━━━━━\u001b[0m \u001b[32m3.3/3.3 MB\u001b[0m \u001b[31m61.6 MB/s\u001b[0m eta \u001b[36m0:00:00\u001b[0m\n",
            "\u001b[2K     \u001b[90m━━━━━━━━━━━━━━━━━━━━━━━━━━━━━━━━━━━━━━━━\u001b[0m \u001b[32m54.5/54.5 kB\u001b[0m \u001b[31m5.8 MB/s\u001b[0m eta \u001b[36m0:00:00\u001b[0m\n",
            "\u001b[2K     \u001b[90m━━━━━━━━━━━━━━━━━━━━━━━━━━━━━━━━━━━━━━\u001b[0m \u001b[32m206.5/206.5 kB\u001b[0m \u001b[31m21.4 MB/s\u001b[0m eta \u001b[36m0:00:00\u001b[0m\n",
            "\u001b[2K     \u001b[90m━━━━━━━━━━━━━━━━━━━━━━━━━━━━━━━━━━━━━━\u001b[0m \u001b[32m137.9/137.9 kB\u001b[0m \u001b[31m16.2 MB/s\u001b[0m eta \u001b[36m0:00:00\u001b[0m\n",
            "\u001b[2K     \u001b[90m━━━━━━━━━━━━━━━━━━━━━━━━━━━━━━━━━━━━━━━━\u001b[0m \u001b[32m54.3/54.3 kB\u001b[0m \u001b[31m6.5 MB/s\u001b[0m eta \u001b[36m0:00:00\u001b[0m\n",
            "\u001b[2K     \u001b[90m━━━━━━━━━━━━━━━━━━━━━━━━━━━━━━━━━━━━━━\u001b[0m \u001b[32m510.1/510.1 kB\u001b[0m \u001b[31m25.4 MB/s\u001b[0m eta \u001b[36m0:00:00\u001b[0m\n",
            "\u001b[?25h"
          ]
        }
      ],
      "source": [
        "%pip install nmrsim --quiet --exists-action i\n",
        "%pip install optuna --quiet --exists-action i\n",
        "%pip install comet_ml --quiet --exists-action i"
      ]
    },
    {
      "cell_type": "markdown",
      "metadata": {
        "id": "QUu6Vjua6DUd"
      },
      "source": [
        "## Loading needed librareis "
      ]
    },
    {
      "cell_type": "code",
      "execution_count": 2,
      "metadata": {
        "colab": {
          "base_uri": "https://localhost:8080/"
        },
        "id": "eTkUW2VQ6GoR",
        "outputId": "605b789e-75db-4b76-b356-60e09d210875"
      },
      "outputs": [
        {
          "output_type": "stream",
          "name": "stdout",
          "text": [
            "Mounted at /content/drive\n",
            "Using cuda device\n"
          ]
        }
      ],
      "source": [
        "# Import the necessary libraries for logging experiments with Comet.ml\n",
        "# from comet_ml import Experiment\n",
        "\n",
        "# Import core PyTorch functionality: PyTorch base, Neural Network module, and CUDA device support\n",
        "import torch\n",
        "import torch.nn as nn\n",
        "\n",
        "# Import additional Python libraries for data manipulation, file I/O, and plotting\n",
        "import numpy as np\n",
        "import os\n",
        "import glob\n",
        "from torch.utils.data import Dataset, DataLoader, TensorDataset\n",
        "import pandas as pd\n",
        "from torch.cuda.amp import autocast, GradScaler\n",
        "\n",
        "# Import PyTorch classes for building a neural network model\n",
        "from torch.nn import Linear, ReLU, CrossEntropyLoss, Sequential, Conv2d, MaxPool2d, Module, Softmax, BatchNorm2d, Dropout\n",
        "\n",
        "# Import PyTorch optimizer classes for gradient-based optimization\n",
        "from torch.optim import Adam, SGD, Adagrad, RMSprop, SparseAdam, LBFGS, Adadelta\n",
        "\n",
        "# Import utility from scikit-learn for splitting data into train and validation sets\n",
        "from sklearn.model_selection import train_test_split\n",
        "\n",
        "# Import additional Python libraries for mathematical operations and plotting\n",
        "import math\n",
        "import matplotlib.pyplot\n",
        "import time\n",
        "\n",
        "# Import PyTorch Functional API for activation functions and other operations\n",
        "import torch.nn.functional as F\n",
        "\n",
        "# Import nmrsim library for NMR simulation\n",
        "import nmrsim\n",
        "from nmrsim import plt\n",
        "from nmrsim import Multiplet\n",
        "\n",
        "# Import random functions for generating random numbers\n",
        "from random import randint, uniform\n",
        "\n",
        "# Import itertools for generating Cartesian products of input iterables\n",
        "from itertools import product\n",
        "\n",
        "# Import Google Colab Drive library to access files stored in Google Drive\n",
        "from google.colab import drive\n",
        "drive.mount('/content/drive')\n",
        "\n",
        "# Import Optuna library for hyperparameter optimization\n",
        "import optuna\n",
        "\n",
        "# Import PyTorch optim module for optimization algorithms\n",
        "import torch.optim as optim\n",
        "\n",
        "# Set the device to GPU if available, otherwise use CPU\n",
        "device = torch.device('cuda' if torch.cuda.is_available() else 'cpu')\n",
        "print(f\"Using {device} device\")\n",
        "\n",
        "# For input & output files\n",
        "import io\n",
        "\n",
        "# Ipywidgets for interactive components\n",
        "import ipywidgets as widgets\n",
        "from ipywidgets import FileUpload\n",
        "from IPython.display import display\n",
        "from ipywidgets import interact, interactive, fixed, interact_manual"
      ]
    },
    {
      "cell_type": "markdown",
      "metadata": {
        "id": "sivzbUJy6lrj"
      },
      "source": [
        "## Checking number of data files avaiable and Loading data "
      ]
    },
    {
      "cell_type": "code",
      "execution_count": 3,
      "metadata": {
        "colab": {
          "base_uri": "https://localhost:8080/"
        },
        "id": "B41uljlf6rEi",
        "outputId": "54ab2975-45c9-46ff-c8c0-8c6aa9b9891b"
      },
      "outputs": [
        {
          "output_type": "stream",
          "name": "stdout",
          "text": [
            "Total number of files:  38\n"
          ]
        }
      ],
      "source": [
        "#Checking how many files are in repository for training, testing, and validation\n",
        "files = glob.glob('/content/drive/My Drive/Spectral_Data/test400/400MHz/spectral_data_*.csv')\n",
        "print('Total number of files: ', len(files))"
      ]
    },
    {
      "cell_type": "markdown",
      "source": [
        "## Model Training"
      ],
      "metadata": {
        "id": "6DEgx1bsNONN"
      }
    },
    {
      "cell_type": "code",
      "execution_count": 7,
      "metadata": {
        "id": "N_7ah_zJ6vA_"
      },
      "outputs": [],
      "source": [
        "class GHzData(Dataset):\n",
        "    def __init__(self):\n",
        "        # Load the list of CSV file paths.\n",
        "        self.files = glob.glob(os.path.join('/content/drive/My Drive/Spectral_Data/test400/400MHz/spectral_data_*.csv'))\n",
        "\n",
        "        self.y_60 = []  # List to store 60 MHz data.\n",
        "        self.y_400 = []  # List to store 400 MHz data.\n",
        "\n",
        "        # Loop through each file in the list of files.\n",
        "        for self.file in self.files:\n",
        "            # Read each file into a pandas DataFrame.\n",
        "            self.df = pd.read_csv(self.file)\n",
        "\n",
        "            # Extract 60 MHz and 400 MHz intensity columns and convert them to numpy arrays.\n",
        "            self.array_60 = self.df['60MHz_intensity'].to_numpy()\n",
        "            self.array_400 = self.df['400MHz_intensity'].to_numpy()\n",
        "\n",
        "            # Append the arrays to the respective lists for 60 MHz and 400 MHz data.\n",
        "            self.y_60.append(self.array_60)\n",
        "            self.y_400.append(self.array_400)\n",
        "\n",
        "        # Convert the 60 MHz list to a tensor, change dtype to float, and add a dimension (n, 1, 5500).\n",
        "        self.tensor_60 = torch.Tensor(self.y_60).float().unsqueeze(1).to(device)\n",
        "\n",
        "        # Convert the 400 MHz list to a tensor, change dtype to float, and add a dimension (n, 1, 5500).\n",
        "        self.tensor_400 = torch.Tensor(self.y_400).float().unsqueeze(1).to(device)\n",
        "\n",
        "        # Store the number of samples in the dataset.\n",
        "        self.num_samples = len(self.y_60)\n",
        "\n",
        "    def __getitem__(self, index):  # Method to retrieve an item from the dataset using an index.\n",
        "        return self.tensor_60[index], self.tensor_400[index]\n",
        "\n",
        "    def __len__(self):  # Method to return the total number of samples in the dataset.\n",
        "        return self.num_samples\n"
      ]
    },
    {
      "cell_type": "code",
      "execution_count": 8,
      "metadata": {
        "colab": {
          "base_uri": "https://localhost:8080/"
        },
        "id": "5ndg2EgKEaLD",
        "outputId": "2d7dca2e-d34d-45b6-a1fa-ae8f4c8acbdd"
      },
      "outputs": [
        {
          "output_type": "stream",
          "name": "stderr",
          "text": [
            "<ipython-input-7-8b87a00ac718>:23: UserWarning: Creating a tensor from a list of numpy.ndarrays is extremely slow. Please consider converting the list to a single numpy.ndarray with numpy.array() before converting to a tensor. (Triggered internally at ../torch/csrc/utils/tensor_new.cpp:245.)\n",
            "  self.tensor_60 = torch.Tensor(self.y_60).float().unsqueeze(1).to(device)\n"
          ]
        }
      ],
      "source": [
        "# Establishing and loading data into notebook\n",
        "dataset = GHzData()\n",
        "\n",
        "#Splitting the data\n",
        "train_X, test_X, train_y, test_y = train_test_split(dataset.tensor_60, dataset.tensor_400,\n",
        "                                                    test_size=0.1)\n",
        "\n",
        "# Splits train data into validation data\n",
        "train_X, valid_X, train_y, valid_y = train_test_split(train_X, train_y,\n",
        "                                                      test_size=0.1)\n",
        "# Creating datasets\n",
        "train_dataset = TensorDataset(train_X, train_y)\n",
        "test_dataset = TensorDataset(test_X, test_y)\n",
        "valid_dataset = TensorDataset(valid_X, valid_y)\n",
        "\n",
        "# Batch size change to higher batch sizes\n",
        "train_dataloader = DataLoader(train_dataset, batch_size=192, shuffle=True)\n",
        "valid_dataloader = DataLoader(valid_dataset, batch_size=192, shuffle=True)\n",
        "test_dataloader = DataLoader(test_dataset, batch_size=192, shuffle=True)"
      ]
    },
    {
      "cell_type": "markdown",
      "metadata": {
        "id": "6A3PK0J375WP"
      },
      "source": [
        "### CNN Module, fit(Training) and validation functions"
      ]
    },
    {
      "cell_type": "code",
      "execution_count": 4,
      "metadata": {
        "id": "MnlWKsx875oC"
      },
      "outputs": [],
      "source": [
        "class CNN(nn.Module):\n",
        "    def __init__(self, num_layers, num_channels, kernel_size, drop_out):\n",
        "        super().__init__()\n",
        "        prev_dim = num_channels\n",
        "        k = kernel_size\n",
        "        layers = [nn.Conv1d(1, prev_dim, kernel_size=k, padding='same'), nn.ReLU(), nn.Dropout(p=drop_out)]\n",
        "\n",
        "        for _ in range(1, num_layers):\n",
        "            layers.append(nn.Conv1d(prev_dim, num_channels, kernel_size=k, padding='same'))\n",
        "            layers.append(nn.ReLU())\n",
        "            layers.append(nn.Dropout(p=drop_out))\n",
        "\n",
        "        layers.append(nn.Conv1d(prev_dim, 1, kernel_size=k, padding='same'))\n",
        "        self.m = nn.Sequential(*layers)\n",
        "\n",
        "    def forward(self, x):\n",
        "        return self.m(x)\n"
      ]
    },
    {
      "cell_type": "code",
      "execution_count": null,
      "metadata": {
        "id": "K9jaeHXB8OGF"
      },
      "outputs": [],
      "source": [
        "def fit(model, dataloader, optimizer, criterion, accumulation_steps=4):\n",
        "    model.train()\n",
        "    running_loss = 0.0\n",
        "    scaler = GradScaler()\n",
        "\n",
        "    for i, (inputs, targets) in enumerate(dataloader):\n",
        "        inputs, targets = inputs.to(device).to(next(model.parameters()).dtype), targets.to(device)\n",
        "\n",
        "        # Forward pass\n",
        "        outputs = model(inputs)\n",
        "\n",
        "        # Compute the loss\n",
        "        loss = criterion(outputs, targets)\n",
        "\n",
        "        # Normalize the loss\n",
        "        loss = loss / accumulation_steps\n",
        "\n",
        "        # Backward pass with gradient scaling\n",
        "        scaler.scale(loss).backward()\n",
        "\n",
        "        # Update the model weights after accumulating gradients from 'accumulation_steps' mini-batches\n",
        "        if (i + 1) % accumulation_steps == 0:\n",
        "            scaler.step(optimizer)\n",
        "            scaler.update()\n",
        "            optimizer.zero_grad()\n",
        "\n",
        "        running_loss += loss.item() * accumulation_steps\n",
        "\n",
        "    return running_loss / len(dataloader)\n"
      ]
    },
    {
      "cell_type": "code",
      "execution_count": null,
      "metadata": {
        "id": "RkJbnK_f8abY"
      },
      "outputs": [],
      "source": [
        "def validate(model, dataloader, optimizer, criterion):\n",
        "    model.eval()\n",
        "    epoch_loss = 0\n",
        "    with torch.no_grad():\n",
        "        for batch in dataloader:\n",
        "            inputs, targets = batch\n",
        "            inputs, targets = inputs.to(device), targets.to(device)\n",
        "            \n",
        "            outputs = model(inputs)\n",
        "            loss = criterion(outputs, targets)\n",
        "            \n",
        "            epoch_loss += loss.item()\n",
        "    \n",
        "    return epoch_loss / len(dataloader)"
      ]
    },
    {
      "cell_type": "markdown",
      "metadata": {
        "id": "mkKone5Z8CKt"
      },
      "source": [
        "### **Optimization of CNN structure**\n"
      ]
    },
    {
      "cell_type": "code",
      "execution_count": null,
      "metadata": {
        "id": "uCijwAN18GIY"
      },
      "outputs": [],
      "source": [
        "def objective_structure(trial):\n",
        "\n",
        "\n",
        "    # Generate the model with hyperparameters\n",
        "    num_layers = trial.suggest_int('num_layers', 3, 11, step=2)\n",
        "    num_channels = trial.suggest_int('num_channels', 32, 128, step=32)\n",
        "    kernel_size = trial.suggest_int('kernel_size', 3, 7, step=2)\n",
        "    drop_out = trial.suggest_float(\"drop_out\", 0.0, 0.5)\n",
        "\n",
        "    model = CNN(num_layers, num_channels, kernel_size, drop_out).to(device)\n",
        "    criterion = nn.MSELoss()\n",
        "    optimizer = Adam(model.parameters(), lr=0.00001)\n",
        "    num_epoch = 30\n",
        "\n",
        "    # Load Data\n",
        "    # Establishing and loading data into notebook\n",
        "    dataset = GHzData()\n",
        "\n",
        "    #Splitting the data\n",
        "    train_X, test_X, train_y, test_y = train_test_split(dataset.tensor_60, dataset.tensor_400,\n",
        "                                                        test_size=0.1)\n",
        "\n",
        "    # Splits train data into validation data\n",
        "    train_X, valid_X, train_y, valid_y = train_test_split(train_X, train_y,\n",
        "                                                          test_size=0.1)\n",
        "    # Creating datasets\n",
        "    train_dataset = TensorDataset(train_X, train_y)\n",
        "    test_dataset = TensorDataset(test_X, test_y)\n",
        "    valid_dataset = TensorDataset(valid_X, valid_y)\n",
        "\n",
        "    # Batch size change to higher batch sizes\n",
        "    train_dataloader = DataLoader(train_dataset, batch_size=192, shuffle=True)\n",
        "    valid_dataloader = DataLoader(valid_dataset, batch_size=192, shuffle=True)\n",
        "    test_dataloader = DataLoader(test_dataset, batch_size=192, shuffle=True)\n",
        "\n",
        "    for epoch in range(num_epoch):\n",
        "        # Training\n",
        "        train_epoch_loss = fit(model, train_dataloader, optimizer, criterion)\n",
        "\n",
        "        # Validation\n",
        "        val_epoch_loss = validate(model, valid_dataloader, optimizer, criterion)\n",
        "\n",
        "        trial.report(val_epoch_loss, epoch)\n",
        "\n",
        "        # Handle pruning\n",
        "        if trial.should_prune():\n",
        "            raise optuna.exceptions.TrialPruned()\n",
        "\n",
        "    print(f'Trial: {trial.number}, Final validation loss: {val_epoch_loss}')\n",
        "    print(f'Parameters: {trial.params}')\n",
        "\n",
        "    return val_epoch_loss\n",
        "\n"
      ]
    },
    {
      "cell_type": "code",
      "execution_count": null,
      "metadata": {
        "id": "ED83jp3X8jU1",
        "colab": {
          "base_uri": "https://localhost:8080/"
        },
        "outputId": "930ca2f3-ca66-4392-956f-c680db386f64"
      },
      "outputs": [
        {
          "output_type": "stream",
          "name": "stderr",
          "text": [
            "[I 2023-06-02 06:55:31,557] Trial 0 finished with value: 0.0019343493040651083 and parameters: {'num_layers': 3, 'num_channels': 32, 'kernel_size': 7, 'drop_out': 0.1606663768183056}. Best is trial 0 with value: 0.0019343493040651083.\n"
          ]
        },
        {
          "output_type": "stream",
          "name": "stdout",
          "text": [
            "Trial: 0, Final validation loss: 0.0019343493040651083\n",
            "Parameters: {'num_layers': 3, 'num_channels': 32, 'kernel_size': 7, 'drop_out': 0.1606663768183056}\n"
          ]
        },
        {
          "output_type": "stream",
          "name": "stderr",
          "text": [
            "[I 2023-06-02 06:55:33,603] Trial 1 finished with value: 0.0008770536514930427 and parameters: {'num_layers': 5, 'num_channels': 64, 'kernel_size': 7, 'drop_out': 0.0100244833632388}. Best is trial 1 with value: 0.0008770536514930427.\n"
          ]
        },
        {
          "output_type": "stream",
          "name": "stdout",
          "text": [
            "Trial: 1, Final validation loss: 0.0008770536514930427\n",
            "Parameters: {'num_layers': 5, 'num_channels': 64, 'kernel_size': 7, 'drop_out': 0.0100244833632388}\n"
          ]
        },
        {
          "output_type": "stream",
          "name": "stderr",
          "text": [
            "[I 2023-06-02 06:55:35,728] Trial 2 finished with value: 0.0018645043019205332 and parameters: {'num_layers': 3, 'num_channels': 96, 'kernel_size': 7, 'drop_out': 0.4092024080006767}. Best is trial 1 with value: 0.0008770536514930427.\n"
          ]
        },
        {
          "output_type": "stream",
          "name": "stdout",
          "text": [
            "Trial: 2, Final validation loss: 0.0018645043019205332\n",
            "Parameters: {'num_layers': 3, 'num_channels': 96, 'kernel_size': 7, 'drop_out': 0.4092024080006767}\n"
          ]
        },
        {
          "output_type": "stream",
          "name": "stderr",
          "text": [
            "[I 2023-06-02 06:55:39,656] Trial 3 finished with value: 0.002893703291192651 and parameters: {'num_layers': 7, 'num_channels': 128, 'kernel_size': 3, 'drop_out': 0.22319400428824215}. Best is trial 1 with value: 0.0008770536514930427.\n"
          ]
        },
        {
          "output_type": "stream",
          "name": "stdout",
          "text": [
            "Trial: 3, Final validation loss: 0.002893703291192651\n",
            "Parameters: {'num_layers': 7, 'num_channels': 128, 'kernel_size': 3, 'drop_out': 0.22319400428824215}\n"
          ]
        },
        {
          "output_type": "stream",
          "name": "stderr",
          "text": [
            "[I 2023-06-02 06:55:43,617] Trial 4 finished with value: 0.000890227616764605 and parameters: {'num_layers': 7, 'num_channels': 128, 'kernel_size': 3, 'drop_out': 0.25381498573140054}. Best is trial 1 with value: 0.0008770536514930427.\n"
          ]
        },
        {
          "output_type": "stream",
          "name": "stdout",
          "text": [
            "Trial: 4, Final validation loss: 0.000890227616764605\n",
            "Parameters: {'num_layers': 7, 'num_channels': 128, 'kernel_size': 3, 'drop_out': 0.25381498573140054}\n"
          ]
        },
        {
          "output_type": "stream",
          "name": "stderr",
          "text": [
            "[I 2023-06-02 06:55:43,974] Trial 5 pruned. \n",
            "[I 2023-06-02 06:55:45,941] Trial 6 finished with value: 0.000980332843028009 and parameters: {'num_layers': 3, 'num_channels': 96, 'kernel_size': 7, 'drop_out': 0.46424743198907514}. Best is trial 1 with value: 0.0008770536514930427.\n"
          ]
        },
        {
          "output_type": "stream",
          "name": "stdout",
          "text": [
            "Trial: 6, Final validation loss: 0.000980332843028009\n",
            "Parameters: {'num_layers': 3, 'num_channels': 96, 'kernel_size': 7, 'drop_out': 0.46424743198907514}\n"
          ]
        },
        {
          "output_type": "stream",
          "name": "stderr",
          "text": [
            "[I 2023-06-02 06:55:46,452] Trial 7 pruned. \n",
            "[I 2023-06-02 06:55:48,399] Trial 8 finished with value: 0.0010777146089822054 and parameters: {'num_layers': 5, 'num_channels': 64, 'kernel_size': 5, 'drop_out': 0.49772928588456417}. Best is trial 1 with value: 0.0008770536514930427.\n"
          ]
        },
        {
          "output_type": "stream",
          "name": "stdout",
          "text": [
            "Trial: 8, Final validation loss: 0.0010777146089822054\n",
            "Parameters: {'num_layers': 5, 'num_channels': 64, 'kernel_size': 5, 'drop_out': 0.49772928588456417}\n"
          ]
        },
        {
          "output_type": "stream",
          "name": "stderr",
          "text": [
            "[I 2023-06-02 06:55:49,222] Trial 9 pruned. \n",
            "[I 2023-06-02 06:55:49,789] Trial 10 pruned. \n",
            "[I 2023-06-02 06:55:55,343] Trial 11 finished with value: 0.0008246480720117688 and parameters: {'num_layers': 7, 'num_channels': 128, 'kernel_size': 5, 'drop_out': 0.2910759790647156}. Best is trial 11 with value: 0.0008246480720117688.\n"
          ]
        },
        {
          "output_type": "stream",
          "name": "stdout",
          "text": [
            "Trial: 11, Final validation loss: 0.0008246480720117688\n",
            "Parameters: {'num_layers': 7, 'num_channels': 128, 'kernel_size': 5, 'drop_out': 0.2910759790647156}\n"
          ]
        },
        {
          "output_type": "stream",
          "name": "stderr",
          "text": [
            "[I 2023-06-02 06:55:55,806] Trial 12 pruned. \n",
            "[I 2023-06-02 06:55:56,259] Trial 13 pruned. \n",
            "[I 2023-06-02 06:55:56,725] Trial 14 pruned. \n",
            "[I 2023-06-02 06:55:57,093] Trial 15 pruned. \n",
            "[I 2023-06-02 06:55:57,592] Trial 16 pruned. \n",
            "[I 2023-06-02 06:55:58,003] Trial 17 pruned. \n",
            "[I 2023-06-02 06:55:58,414] Trial 18 pruned. \n",
            "[I 2023-06-02 06:55:59,632] Trial 19 finished with value: 0.0009829157497733831 and parameters: {'num_layers': 7, 'num_channels': 32, 'kernel_size': 7, 'drop_out': 0.11612119697429439}. Best is trial 11 with value: 0.0008246480720117688.\n"
          ]
        },
        {
          "output_type": "stream",
          "name": "stdout",
          "text": [
            "Trial: 19, Final validation loss: 0.0009829157497733831\n",
            "Parameters: {'num_layers': 7, 'num_channels': 32, 'kernel_size': 7, 'drop_out': 0.11612119697429439}\n"
          ]
        }
      ],
      "source": [
        "# Optimize structure\n",
        "study_structure = optuna.create_study(direction=\"minimize\")\n",
        "study_structure.optimize(objective_structure, n_trials=20)\n",
        "best_params = study_structure.best_params\n"
      ]
    },
    {
      "cell_type": "code",
      "execution_count": null,
      "metadata": {
        "id": "6LvlOYapMWB2",
        "colab": {
          "base_uri": "https://localhost:8080/"
        },
        "outputId": "8267fd3d-e5d5-408a-d827-cd2c4d73cd8d"
      },
      "outputs": [
        {
          "output_type": "execute_result",
          "data": {
            "text/plain": [
              "{'num_layers': 7,\n",
              " 'num_channels': 128,\n",
              " 'kernel_size': 5,\n",
              " 'drop_out': 0.2910759790647156}"
            ]
          },
          "metadata": {},
          "execution_count": 21
        }
      ],
      "source": [
        "best_params"
      ]
    },
    {
      "cell_type": "markdown",
      "metadata": {
        "id": "9tg-3Jc58ojf"
      },
      "source": [
        "### **Hyper-prarameter Optimization**\n"
      ]
    },
    {
      "cell_type": "code",
      "execution_count": null,
      "metadata": {
        "id": "uUsEe3nW8lzA"
      },
      "outputs": [],
      "source": [
        "def objective_hyperparameters(trial):\n",
        "\n",
        "    # Generate the model with the best structure\n",
        "    num_layers = int(best_params['num_layers'])\n",
        "    num_channels = int(best_params['num_channels'])\n",
        "    kernel_size = int(best_params['kernel_size'])\n",
        "    drop_out = best_params['drop_out']\n",
        "    num_epoch = 30\n",
        "    model = CNN(num_layers, num_channels, kernel_size, drop_out).to(device)\n",
        "\n",
        "   \n",
        "\n",
        "    # Generate optimizers\n",
        "    optimizer_name = trial.suggest_categorical('optimizer', ['Adam', 'Adadelta', 'Adagrad', 'RMSprop', 'SGD'])\n",
        "    lr = trial.suggest_float('lr', 1e-5, 1e-1, log=True)\n",
        "    optimizer = getattr(optim, optimizer_name)(model.parameters(), lr=lr)\n",
        "    batch_size = trial.suggest_int('batch_size', 64, 256, step=64)\n",
        "\n",
        "\n",
        "    criterion = nn.MSELoss()\n",
        "\n",
        "    # Load Data\n",
        "    # Establishing and loading data into notebook\n",
        "    dataset = GHzData()\n",
        "\n",
        "    #Splitting the data\n",
        "    train_X, test_X, train_y, test_y = train_test_split(dataset.tensor_60, dataset.tensor_400,\n",
        "                                                        test_size=0.1)\n",
        "\n",
        "    # Splits train data into validation data\n",
        "    train_X, valid_X, train_y, valid_y = train_test_split(train_X, train_y,\n",
        "                                                          test_size=0.1)\n",
        "    # Creating datasets\n",
        "    train_dataset = TensorDataset(train_X, train_y)\n",
        "    test_dataset = TensorDataset(test_X, test_y)\n",
        "    valid_dataset = TensorDataset(valid_X, valid_y)\n",
        "\n",
        "    # Batch size change to higher batch sizes\n",
        "    train_dataloader = DataLoader(train_dataset, batch_size=batch_size, shuffle=True)\n",
        "    valid_dataloader = DataLoader(valid_dataset, batch_size=batch_size, shuffle=True)\n",
        "    test_dataloader = DataLoader(test_dataset, batch_size=batch_size, shuffle=True)\n",
        "    \n",
        "    # Training and validation loops\n",
        "    for epoch in range(num_epoch):\n",
        "        # Training\n",
        "        train_epoch_loss = fit(model, train_dataloader, optimizer, criterion)\n",
        "\n",
        "        # Validation\n",
        "        val_epoch_loss = validate(model, valid_dataloader, optimizer, criterion)\n",
        "\n",
        "        trial.report(val_epoch_loss, epoch)\n",
        "        print(f'Trial: {trial.number}, Final validation loss: {val_epoch_loss}')\n",
        "        print(f'Final validation loss: {val_epoch_loss}')\n",
        "\n",
        "        # Handle pruning (same as before)\n",
        "        if trial.should_prune():\n",
        "            raise optuna.exceptions.TrialPruned()\n",
        "\n",
        "    return val_epoch_loss\n",
        "    \n"
      ]
    },
    {
      "cell_type": "code",
      "execution_count": null,
      "metadata": {
        "id": "LouGoyZl8reJ"
      },
      "outputs": [],
      "source": [
        "# Optimize hyperparameters\n",
        "study_hyperparameters = optuna.create_study(direction=\"minimize\")\n",
        "study_hyperparameters.optimize(objective_hyperparameters, n_trials=20)\n",
        "best_hyperparams = study_hyperparameters.best_params\n"
      ]
    },
    {
      "cell_type": "code",
      "execution_count": null,
      "metadata": {
        "id": "cayVtJ9MN_Uf"
      },
      "outputs": [],
      "source": [
        "best_hyperparams"
      ]
    },
    {
      "cell_type": "markdown",
      "metadata": {
        "id": "KIA_quPjSoj0"
      },
      "source": [
        "**Training best model**"
      ]
    },
    {
      "cell_type": "code",
      "execution_count": null,
      "metadata": {
        "id": "35ThnwF-QNGs"
      },
      "outputs": [],
      "source": [
        "# Create a new instance of the model using the best parameters\n",
        "best_model = CNN(\n",
        "    num_layers=best_params[\"num_layers\"],\n",
        "    num_channels=best_params[\"num_channels\"],\n",
        "    kernel_size=best_params[\"kernel_size\"],\n",
        "    drop_out=best_params[\"drop_out\"]\n",
        ")\n",
        "\n",
        "\n",
        "# Create DataLoaders for training and validation datasets\n",
        "train_dataloader = DataLoader(train_dataset, batch_size=best_hyperparams[\"batch_size\"], shuffle=True)\n",
        "validation_dataloader = DataLoader(valid_dataset, batch_size=best_hyperparams[\"batch_size\"], shuffle=False)\n",
        "\n",
        "# Train the model using the best parameters\n",
        "criterion = torch.nn.MSELoss()\n",
        "optimizer_name = best_hyperparams[\"optimizer\"]\n",
        "optimizer = getattr(torch.optim, optimizer_name)(best_model.parameters(), lr=best_hyperparams[\"lr\"])\n",
        "\n",
        "num_epochs = 30\n",
        "training_losses = []\n",
        "validation_losses = []\n",
        "\n",
        "for epoch in range(num_epochs):\n",
        "    train_loss = fit(best_model, train_dataloader, optimizer, criterion)\n",
        "    validation_loss = validate(best_model, validation_dataloader, criterion)\n",
        "    \n",
        "    training_losses.append(train_loss)\n",
        "    validation_losses.append(validation_loss)\n",
        "    print(f\"Epoch {epoch+1}/{num_epochs}: Train Loss {train_loss:.4f}, Validation Loss {validation_loss:.4f}\")\n",
        "\n",
        "# Plot the training and validation losses\n",
        "matplotlib.pyplot.plot(training_losses, label=\"Training Loss\")\n",
        "matplotlib.pyplot.plot(validation_losses, label=\"Validation Loss\")\n",
        "matplotlib.pyplot.xlabel(\"Epoch\")\n",
        "matplotlib.pyplot.ylabel(\"Loss\")\n",
        "matplotlib.pyplot.legend()\n",
        "matplotlib.pyplot.title(\"Training and Validation Losses\")\n",
        "matplotlib.pyplot.show()\n"
      ]
    },
    {
      "cell_type": "markdown",
      "metadata": {
        "id": "qSDSi6HQ_sqn"
      },
      "source": [
        "### Testing best model"
      ]
    },
    {
      "cell_type": "code",
      "execution_count": null,
      "metadata": {
        "id": "-9LTFN8r_49h"
      },
      "outputs": [],
      "source": [
        "def test(model, test_dataloader, criterion):\n",
        "    \"\"\"\n",
        "    Evaluate the performance of the model on the test dataset.\n",
        "    \n",
        "    Args:\n",
        "        model (nn.Module): The trained model to evaluate.\n",
        "        test_dataloader (DataLoader): DataLoader for the test dataset.\n",
        "        criterion (nn.Module): Loss function used for evaluation.\n",
        "    \n",
        "    Returns:\n",
        "        test_loss (float): Mean loss of the model on the test dataset.\n",
        "        accuracy (float): Accuracy of the model on the test dataset.\n",
        "    \"\"\"\n",
        "    # Set the model to evaluation mode\n",
        "    model.eval()\n",
        "    \n",
        "    # Initialize variables\n",
        "    test_loss = 0.0\n",
        "    test_correct = 0\n",
        "    test_total = 0\n",
        "    loss_list_test = []\n",
        "\n",
        "    # Disable gradient computation\n",
        "    with torch.no_grad():\n",
        "        # Loop over test dataset\n",
        "        for inputs, labels in test_dataloader:\n",
        "            # Forward pass\n",
        "            outputs = model(inputs)\n",
        "            \n",
        "            # Calculate loss\n",
        "            loss = criterion(outputs, labels)\n",
        "            test_loss += loss.item() * inputs.size(1)\n",
        "            loss_list_test.append(loss)\n",
        "\n",
        "            # Update label and prediction tensors\n",
        "            _, labels = torch.min(labels, 1)\n",
        "            _, predicts = torch.min(outputs.data, 1)\n",
        "            predicts = predicts.unsqueeze(1)\n",
        "            \n",
        "            # Update total samples and correct predictions\n",
        "            test_total += labels.size(0)\n",
        "            test_correct += (predicts == labels).float().mean()\n",
        "\n",
        "    # Calculate accuracy\n",
        "    accuracy = (test_correct / test_total) * 100\n",
        "    \n",
        "    # Calculate mean loss\n",
        "    test_loss /= len(test_dataloader.dataset)\n",
        "    \n",
        "    print(f' Mean Loss of Function: {test_loss}, Accuracy: {accuracy}')\n",
        "    \n",
        "    return test_loss, accuracy\n"
      ]
    },
    {
      "cell_type": "markdown",
      "metadata": {
        "id": "n6A9cVddDAl9"
      },
      "source": [
        "## Model Prediction"
      ]
    },
    {
      "cell_type": "code",
      "execution_count": 5,
      "metadata": {
        "id": "WlGwWmxY_6Yv"
      },
      "outputs": [],
      "source": [
        "def get_predictions(model, test_dataloader):\n",
        "    # Set the model to evaluation mode\n",
        "    model.eval()\n",
        "    \n",
        "    # Initialize a list to store the predictions\n",
        "    predictions_list = []\n",
        "\n",
        "    # Use torch.no_grad() context to disable gradient calculation, which speeds up the process\n",
        "    with torch.no_grad():\n",
        "        # Iterate over the test dataloader\n",
        "        for inputs, _ in test_dataloader:\n",
        "            # Get the model predictions for the given inputs\n",
        "            predictions = model(inputs)\n",
        "            \n",
        "            # Convert the predictions tensor to a numpy array\n",
        "            predictions_numpy = predictions.cpu().numpy()\n",
        "            \n",
        "            # Append the predictions numpy array to the list\n",
        "            predictions_list.append(predictions_numpy)\n",
        "\n",
        "    # Concatenate all predictions numpy arrays along the first axis\n",
        "    predictions_concatenated = np.concatenate(predictions_list, axis=0)\n",
        "    \n",
        "    # Reshape the concatenated predictions to have 2 dimensions\n",
        "    predictions_reshaped = predictions_concatenated.reshape(-1, predictions_concatenated.shape[-1])\n",
        "    \n",
        "    # Convert the reshaped predictions to a pandas DataFrame\n",
        "    pred_df = pd.DataFrame(predictions_reshaped)\n",
        "\n",
        "    # Return the predictions DataFrame\n",
        "    return pred_df\n"
      ]
    },
    {
      "cell_type": "code",
      "execution_count": 11,
      "metadata": {
        "id": "3vAIMIPvEuoQ"
      },
      "outputs": [],
      "source": [
        "# Get the predictions DataFrame for the given model and test dataloader\n",
        "# model = CNN(\n",
        "#     num_layers=best_params[\"num_layers\"],\n",
        "#     num_channels=best_params[\"num_channels\"],\n",
        "#     kernel_size=best_params[\"kernel_size\"],\n",
        "#     drop_out=best_params[\"drop_out\"]\n",
        "# ).to(device)\n",
        "\n",
        "model = CNN(\n",
        "    num_layers=5,\n",
        "    num_channels=64,\n",
        "    kernel_size=5,\n",
        "    drop_out=0.2\n",
        ").to(device)\n",
        "\n",
        "\n",
        "predictions_df = get_predictions(model, test_dataloader)"
      ]
    },
    {
      "cell_type": "markdown",
      "metadata": {
        "id": "CuDlFVgrH8HV"
      },
      "source": [
        "### Using model to generate high resolution spectra"
      ]
    },
    {
      "cell_type": "code",
      "execution_count": null,
      "metadata": {
        "id": "KpSqd0qJHMuT"
      },
      "outputs": [],
      "source": [
        "def generate_high_res_plot(model, file_path, input_column_name,\n",
        "                           input_ppm_column_name, output_ppm_column_name):\n",
        "    \"\"\"\n",
        "    Generate a plot comparing original and high-resolution spectra\n",
        "    from a given CSV file using a pre-trained model.\n",
        "\n",
        "    Args:\n",
        "        model: A pre-trained model for predicting high-resolution spectra.\n",
        "        file_path: A string, path to the CSV file containing the data.\n",
        "        input_column_name: A string, name of the column with the original spectra data.\n",
        "        input_ppm_column_name: A string, name of the column with the original ppm values.\n",
        "        output_ppm_column_name: A string, name of the column with the high-resolution ppm values.\n",
        "\n",
        "    Returns:\n",
        "        A matplotlib figure containing the comparison plot.\n",
        "    \"\"\"\n",
        "\n",
        "    # Load CSV file into a DataFrame\n",
        "    df = pd.read_csv(file_path)\n",
        "\n",
        "    # Process the input data\n",
        "    input_data = df[input_column_name].to_numpy()\n",
        "    input_data = torch.Tensor(input_data).unsqueeze(0).unsqueeze(1).to(device)\n",
        "\n",
        "    # Make predictions using the model\n",
        "    predictions = model(input_data)\n",
        "    predictions_numpy = predictions.detach().cpu().numpy().reshape(-1)\n",
        "\n",
        "    # Plot the data\n",
        "    fig, ax = matplotlib.pyplot.subplots()\n",
        "    ax.plot(df[input_ppm_column_name], df[input_column_name], label='Original')\n",
        "    ax.plot(df[output_ppm_column_name], predictions_numpy,\n",
        "            label='High Resolution', linestyle='--')\n",
        "    ax.legend()\n",
        "    ax.set_xlabel('ppm')\n",
        "    ax.set_ylabel('Intensity')\n",
        "    ax.set_title('Comparison of Original and High Resolution Spectra')\n",
        "\n",
        "    return fig\n"
      ]
    },
    {
      "cell_type": "markdown",
      "metadata": {
        "id": "A6GVnTZh6iEH"
      },
      "source": [
        "### Generating new Data"
      ]
    },
    {
      "cell_type": "code",
      "execution_count": null,
      "metadata": {
        "id": "HoKiS_h36ao0"
      },
      "outputs": [],
      "source": [
        "# Change these variables to change resolutions of spectra generate\n",
        "# Notation is typically: res_1=higher and res_2=lower (integer input)\n",
        "res_1=400\n",
        "res_2=60\n",
        "# Function to generate NMR signals based on input argument of spectrometer freq\n",
        "def NMR_Signal_Generator(spectrometer_frequencies):\n",
        "    '''\n",
        "    Takes input of list of 2 spectrometer frequencies in list format and\n",
        "    generates a list of NMR signals using nmrsim library. An NMR signal given\n",
        "    by this function is described by 1-4 (random), a 2Hz linewidth, a chemical\n",
        "    shift from 0.5 to 9, a J coupling of 3 to 15Hz, a multiplicity of 0 to 5\n",
        "    \n",
        "    Parameters\n",
        "    ----------\n",
        "        spectrometer_frequencies: List\n",
        "            List of 2 spectrometer frequencies\n",
        "            \n",
        "    Output\n",
        "    -------\n",
        "        signals_list: List\n",
        "            List of NMR signals of the two resolutions\n",
        "    \n",
        "    \n",
        "    '''\n",
        "    # Assigning number of protons defined by peak integral\n",
        "    integral = randint(1,4)\n",
        "    #Assigning the linewidth of an NMR peak in the spectrum\n",
        "    linewidth_hz = 2\n",
        "    # Randomly return a floating point chemical shift assignment\n",
        "    chemical_shift = uniform(0.5,9)\n",
        "    # Randomly return a floating point coupling (J coupling) frequency\n",
        "    coupling = uniform(3,15)\n",
        "    # Randomly select a multiplicity (peak splitting)\n",
        "    multiplicity = randint(0,5)\n",
        "    # Generate a list of NMR signals using the Multiplet function of nmrsim\n",
        "    signals_list = [(Multiplet(chemical_shift * frequency, integral, \n",
        "                               [(coupling,multiplicity)], linewidth_hz)) for \n",
        "                                frequency in spectrometer_frequencies]\n",
        "    return signals_list\n",
        "def create_random_spectra(num_peaks, res_1, res_2):\n",
        "    '''\n",
        "    Creates random NMR spectra given number of peaks desired, resolution 1\n",
        "    and resolution 2\n",
        "    \n",
        "    Parameters\n",
        "    -----------\n",
        "        num_peaks: int\n",
        "            Number of peaks in random spectrum\n",
        "        res_1: int\n",
        "            First desired resolution in MHz\n",
        "        res_2: int\n",
        "            Second desired resolution in MHz\n",
        "    \n",
        "    Output\n",
        "    -------\n",
        "        x_res_1: float\n",
        "            Chemical shift in ppm of spectrum 1\n",
        "        y_res_1: float\n",
        "            Intensity of spectrum 1\n",
        "        x_res_2: float\n",
        "            Chemical shift in ppm of spectrum 2\n",
        "        y_res_2: float\n",
        "            Intensity of spectrum\n",
        "    \n",
        "\n",
        "    '''\n",
        "    # Assigns desired NMR frequencies to a list\n",
        "    spectrometer_frequencies = [res_1,res_2]\n",
        "    # Creates blank dataframe with desired NMR frequencies column\n",
        "    spectral_data = pd.DataFrame(columns=[f'{str(res_1)}MHz', f'{str(res_2)}MHz'])\n",
        "    \n",
        "    # Generates NMR Signals from NMRSIM using established list, generates\n",
        "    # spectra and puts them in spectral_data frame\n",
        "    for i in range(0,num_peaks):\n",
        "        signals_list = NMR_Signal_Generator(spectrometer_frequencies)\n",
        "        spectral_data.loc[len(spectral_data)] = signals_list\n",
        "\n",
        "    # Defines spectrum object, from Multiplet class\n",
        "    # Multiplets taken from spectral_data frequency df\n",
        "    spectrum_res_1 = Multiplet(0,0.5,[],2) \n",
        "    for multiplet in spectral_data[f'{str(res_1)}MHz']:\n",
        "        spectrum_res_1 += multiplet\n",
        "        \n",
        "    # Process repeated for other frequency\n",
        "    spectrum_res_2 = Multiplet(0,0.5,[],2)\n",
        "    for multiplet in spectral_data[f'{str(res_2)}MHz']:\n",
        "        spectrum_res_2 += multiplet\n",
        "    \n",
        "    # Normalize the spectrometer frequencies and have n number of points on plots\n",
        "    spectrum_res_1.vmin = -0.5 * spectrometer_frequencies[0]\n",
        "    spectrum_res_1.vmax = 10.5 * spectrometer_frequencies[0]\n",
        "    x_res_1, y_res_1 = spectrum_res_1.lineshape(points=5500)\n",
        "\n",
        "    spectrum_res_2.vmin = -0.5 * spectrometer_frequencies[1]\n",
        "    spectrum_res_2.vmax = 10.5 * spectrometer_frequencies[1]\n",
        "    x_res_2, y_res_2 = spectrum_res_2.lineshape(points=5500)\n",
        "\n",
        "    return x_res_1, y_res_1, x_res_2, y_res_2\n",
        "\n",
        "\n",
        "def write_nmr_spectra(index, num_peaks, x_res_1, y_res_1, x_res_2, y_res_2, res_1, res_2):\n",
        "    '''\n",
        "    Writes generated NMR spectra to csv files\n",
        "    \n",
        "    Parameters\n",
        "    -----------\n",
        "        index: int\n",
        "            Label as integer of NMR spectrum generated in a series\n",
        "        num_peaks: int\n",
        "            Specifies how many peaks are desired in spectrum\n",
        "        x_res_1: float\n",
        "            Output of write spectrum, chemical shift of spectrum 1\n",
        "        x_res_2: float\n",
        "            Output of write spectrum, chemical shift of spectrum 2\n",
        "        y_res_1: float\n",
        "            Output of write spectrum, intensity of spectrum 1\n",
        "        y_res_2: float\n",
        "            Output of write spectrum, intensity of spectrum 2\n",
        "        res_1: int\n",
        "            Resolution in MHz of spectrum 1\n",
        "        res_2: int\n",
        "            Resolution in MHz of spectrum 2\n",
        "    \n",
        "    Output\n",
        "    -------\n",
        "        filename: csv\n",
        "            A csv containing the x, y data of spectra 1 and 2\n",
        "    \n",
        "    \n",
        "    '''\n",
        "    # Saving data to file\n",
        "    sf = [res_1,res_2]\n",
        "    x_ppm_res_1 = x_res_1/sf[0]\n",
        "    x_ppm_res_2 = x_res_2/sf[1]\n",
        "    spectral_data = pd.DataFrame(columns=[f'{str(res_1)}MHz_ppm',\n",
        "                                        f'{str(res_1)}MHz_intensity', \n",
        "                                        f'{str(res_2)}MHz_ppm',\n",
        "                                        f'{str(res_2)}MHz_intensity'])\n",
        "    spectral_data[f'{str(res_1)}MHz_ppm'] = x_ppm_res_1\n",
        "    spectral_data[f'{str(res_1)}MHz_intensity'] = y_res_1\n",
        "    spectral_data[f'{str(res_2)}MHz_ppm'] = x_ppm_res_2\n",
        "    spectral_data[f'{str(res_2)}MHz_intensity'] = y_res_2\n",
        "    filename=f\"/content/drive/My Drive/spectral_data/{str(res_1)}MHz/\"+\"spectral_data\"+ \"_\"+str(num_peaks).zfill(2)+ \"_\" +str(index).zfill(5)+\".csv\"\n",
        "    print(filename)\n",
        "    spectral_data.to_csv(filename)\n",
        "\n",
        "import time\n",
        "# num_peaks = Number of Peaks that you want in your spectra\n",
        "# j = how many spectra do you want.\n",
        "x = time.time()\n",
        "\n",
        "for j in range (0,5000):\n",
        "    num_peaks = randint(5,16)\n",
        "    #print(num_peaks)\n",
        "    x_res_1, y_res_1, x_res_2, y_res_2 = create_random_spectra(num_peaks, res_1, res_2)\n",
        "    write_nmr_spectra(j, num_peaks, x_res_1, y_res_1, x_res_2, y_res_2, res_1, res_2)\n",
        "\n",
        "print(f'Time Elapsed: {round(time.time()-x, 5)} seconds') "
      ]
    },
    {
      "cell_type": "markdown",
      "source": [
        "### User Part"
      ],
      "metadata": {
        "id": "IhPa4o6jTG7T"
      }
    },
    {
      "cell_type": "markdown",
      "metadata": {
        "id": "OgEd0tsuKdjs"
      },
      "source": [
        "#### Upload Files"
      ]
    },
    {
      "cell_type": "code",
      "execution_count": 12,
      "metadata": {
        "colab": {
          "base_uri": "https://localhost:8080/",
          "height": 67,
          "referenced_widgets": [
            "de6bcbbc1e9e4aae819c39e51408a209",
            "0764c21419a549bebcb8c26df7852275",
            "4b268199561a49caaa191d8293232bdd"
          ]
        },
        "id": "LNbyZmLSKiqg",
        "outputId": "c50697c2-0e3d-47d5-f642-070fca1c1648"
      },
      "outputs": [
        {
          "output_type": "stream",
          "name": "stdout",
          "text": [
            "Please upload your files.[One csv file]\n"
          ]
        },
        {
          "output_type": "display_data",
          "data": {
            "text/plain": [
              "FileUpload(value={}, accept='.csv', description='Upload')"
            ],
            "application/vnd.jupyter.widget-view+json": {
              "version_major": 2,
              "version_minor": 0,
              "model_id": "de6bcbbc1e9e4aae819c39e51408a209"
            }
          },
          "metadata": {}
        }
      ],
      "source": [
        "print('Please upload your files.[One csv file]')\n",
        "upload = FileUpload(accept='.csv', multiple=False)\n",
        "display(upload)"
      ]
    },
    {
      "cell_type": "code",
      "execution_count": 13,
      "metadata": {
        "id": "JzSMEO7ER3YL"
      },
      "outputs": [],
      "source": [
        "# import codecs\n",
        "uploaded_file = list(upload.value.values())[0]"
      ]
    },
    {
      "cell_type": "code",
      "execution_count": 14,
      "metadata": {
        "id": "mhGruocbKlyQ"
      },
      "outputs": [],
      "source": [
        "# convert the memory view into a bytes and utf-8 decode it to a string\n",
        "content = str(bytes(list(upload.value.values())[0]['content']), encoding='utf-8')"
      ]
    },
    {
      "cell_type": "code",
      "execution_count": 15,
      "metadata": {
        "id": "habh9-XQKmO4"
      },
      "outputs": [],
      "source": [
        "df = pd.read_csv(io.StringIO(content))"
      ]
    },
    {
      "cell_type": "code",
      "execution_count": 16,
      "metadata": {
        "colab": {
          "base_uri": "https://localhost:8080/",
          "height": 224
        },
        "id": "b4ZQUpp9NPYX",
        "outputId": "03bc4576-5409-4151-a417-d3e2577d580f"
      },
      "outputs": [
        {
          "output_type": "stream",
          "name": "stdout",
          "text": [
            "Check your uploaded file heads.\n"
          ]
        },
        {
          "output_type": "execute_result",
          "data": {
            "text/plain": [
              "   Unnamed: 0  400MHz_ppm  400MHz_intensity  60MHz_ppm  60MHz_intensity\n",
              "0           0   -0.500000          0.000009  -0.500000         0.000410\n",
              "1           1   -0.498000          0.000009  -0.498000         0.000412\n",
              "2           2   -0.495999          0.000009  -0.495999         0.000414\n",
              "3           3   -0.493999          0.000009  -0.493999         0.000415\n",
              "4           4   -0.491999          0.000009  -0.491999         0.000417"
            ],
            "text/html": [
              "\n",
              "  <div id=\"df-d14102e9-6916-4853-b9a6-b93b1371519c\">\n",
              "    <div class=\"colab-df-container\">\n",
              "      <div>\n",
              "<style scoped>\n",
              "    .dataframe tbody tr th:only-of-type {\n",
              "        vertical-align: middle;\n",
              "    }\n",
              "\n",
              "    .dataframe tbody tr th {\n",
              "        vertical-align: top;\n",
              "    }\n",
              "\n",
              "    .dataframe thead th {\n",
              "        text-align: right;\n",
              "    }\n",
              "</style>\n",
              "<table border=\"1\" class=\"dataframe\">\n",
              "  <thead>\n",
              "    <tr style=\"text-align: right;\">\n",
              "      <th></th>\n",
              "      <th>Unnamed: 0</th>\n",
              "      <th>400MHz_ppm</th>\n",
              "      <th>400MHz_intensity</th>\n",
              "      <th>60MHz_ppm</th>\n",
              "      <th>60MHz_intensity</th>\n",
              "    </tr>\n",
              "  </thead>\n",
              "  <tbody>\n",
              "    <tr>\n",
              "      <th>0</th>\n",
              "      <td>0</td>\n",
              "      <td>-0.500000</td>\n",
              "      <td>0.000009</td>\n",
              "      <td>-0.500000</td>\n",
              "      <td>0.000410</td>\n",
              "    </tr>\n",
              "    <tr>\n",
              "      <th>1</th>\n",
              "      <td>1</td>\n",
              "      <td>-0.498000</td>\n",
              "      <td>0.000009</td>\n",
              "      <td>-0.498000</td>\n",
              "      <td>0.000412</td>\n",
              "    </tr>\n",
              "    <tr>\n",
              "      <th>2</th>\n",
              "      <td>2</td>\n",
              "      <td>-0.495999</td>\n",
              "      <td>0.000009</td>\n",
              "      <td>-0.495999</td>\n",
              "      <td>0.000414</td>\n",
              "    </tr>\n",
              "    <tr>\n",
              "      <th>3</th>\n",
              "      <td>3</td>\n",
              "      <td>-0.493999</td>\n",
              "      <td>0.000009</td>\n",
              "      <td>-0.493999</td>\n",
              "      <td>0.000415</td>\n",
              "    </tr>\n",
              "    <tr>\n",
              "      <th>4</th>\n",
              "      <td>4</td>\n",
              "      <td>-0.491999</td>\n",
              "      <td>0.000009</td>\n",
              "      <td>-0.491999</td>\n",
              "      <td>0.000417</td>\n",
              "    </tr>\n",
              "  </tbody>\n",
              "</table>\n",
              "</div>\n",
              "      <button class=\"colab-df-convert\" onclick=\"convertToInteractive('df-d14102e9-6916-4853-b9a6-b93b1371519c')\"\n",
              "              title=\"Convert this dataframe to an interactive table.\"\n",
              "              style=\"display:none;\">\n",
              "        \n",
              "  <svg xmlns=\"http://www.w3.org/2000/svg\" height=\"24px\"viewBox=\"0 0 24 24\"\n",
              "       width=\"24px\">\n",
              "    <path d=\"M0 0h24v24H0V0z\" fill=\"none\"/>\n",
              "    <path d=\"M18.56 5.44l.94 2.06.94-2.06 2.06-.94-2.06-.94-.94-2.06-.94 2.06-2.06.94zm-11 1L8.5 8.5l.94-2.06 2.06-.94-2.06-.94L8.5 2.5l-.94 2.06-2.06.94zm10 10l.94 2.06.94-2.06 2.06-.94-2.06-.94-.94-2.06-.94 2.06-2.06.94z\"/><path d=\"M17.41 7.96l-1.37-1.37c-.4-.4-.92-.59-1.43-.59-.52 0-1.04.2-1.43.59L10.3 9.45l-7.72 7.72c-.78.78-.78 2.05 0 2.83L4 21.41c.39.39.9.59 1.41.59.51 0 1.02-.2 1.41-.59l7.78-7.78 2.81-2.81c.8-.78.8-2.07 0-2.86zM5.41 20L4 18.59l7.72-7.72 1.47 1.35L5.41 20z\"/>\n",
              "  </svg>\n",
              "      </button>\n",
              "      \n",
              "  <style>\n",
              "    .colab-df-container {\n",
              "      display:flex;\n",
              "      flex-wrap:wrap;\n",
              "      gap: 12px;\n",
              "    }\n",
              "\n",
              "    .colab-df-convert {\n",
              "      background-color: #E8F0FE;\n",
              "      border: none;\n",
              "      border-radius: 50%;\n",
              "      cursor: pointer;\n",
              "      display: none;\n",
              "      fill: #1967D2;\n",
              "      height: 32px;\n",
              "      padding: 0 0 0 0;\n",
              "      width: 32px;\n",
              "    }\n",
              "\n",
              "    .colab-df-convert:hover {\n",
              "      background-color: #E2EBFA;\n",
              "      box-shadow: 0px 1px 2px rgba(60, 64, 67, 0.3), 0px 1px 3px 1px rgba(60, 64, 67, 0.15);\n",
              "      fill: #174EA6;\n",
              "    }\n",
              "\n",
              "    [theme=dark] .colab-df-convert {\n",
              "      background-color: #3B4455;\n",
              "      fill: #D2E3FC;\n",
              "    }\n",
              "\n",
              "    [theme=dark] .colab-df-convert:hover {\n",
              "      background-color: #434B5C;\n",
              "      box-shadow: 0px 1px 3px 1px rgba(0, 0, 0, 0.15);\n",
              "      filter: drop-shadow(0px 1px 2px rgba(0, 0, 0, 0.3));\n",
              "      fill: #FFFFFF;\n",
              "    }\n",
              "  </style>\n",
              "\n",
              "      <script>\n",
              "        const buttonEl =\n",
              "          document.querySelector('#df-d14102e9-6916-4853-b9a6-b93b1371519c button.colab-df-convert');\n",
              "        buttonEl.style.display =\n",
              "          google.colab.kernel.accessAllowed ? 'block' : 'none';\n",
              "\n",
              "        async function convertToInteractive(key) {\n",
              "          const element = document.querySelector('#df-d14102e9-6916-4853-b9a6-b93b1371519c');\n",
              "          const dataTable =\n",
              "            await google.colab.kernel.invokeFunction('convertToInteractive',\n",
              "                                                     [key], {});\n",
              "          if (!dataTable) return;\n",
              "\n",
              "          const docLinkHtml = 'Like what you see? Visit the ' +\n",
              "            '<a target=\"_blank\" href=https://colab.research.google.com/notebooks/data_table.ipynb>data table notebook</a>'\n",
              "            + ' to learn more about interactive tables.';\n",
              "          element.innerHTML = '';\n",
              "          dataTable['output_type'] = 'display_data';\n",
              "          await google.colab.output.renderOutput(dataTable, element);\n",
              "          const docLink = document.createElement('div');\n",
              "          docLink.innerHTML = docLinkHtml;\n",
              "          element.appendChild(docLink);\n",
              "        }\n",
              "      </script>\n",
              "    </div>\n",
              "  </div>\n",
              "  "
            ]
          },
          "metadata": {},
          "execution_count": 16
        }
      ],
      "source": [
        "print('Check your uploaded file heads.')\n",
        "df.head()"
      ]
    },
    {
      "cell_type": "code",
      "source": [
        "df1 = df"
      ],
      "metadata": {
        "id": "vqFln2D0Ha5y"
      },
      "execution_count": 20,
      "outputs": []
    },
    {
      "cell_type": "code",
      "source": [
        "# Rename the first cokumn int \"60MHz\" for model training purpose\n",
        "df1.rename(columns={df1.columns[0]: '60MHz'},inplace=True)"
      ],
      "metadata": {
        "id": "i74uU3ZMHc3i"
      },
      "execution_count": 21,
      "outputs": []
    },
    {
      "cell_type": "code",
      "source": [
        "df1.head()"
      ],
      "metadata": {
        "colab": {
          "base_uri": "https://localhost:8080/",
          "height": 206
        },
        "id": "MGy8YSJOJD47",
        "outputId": "a115a9fa-13e3-4638-d2fe-7e9f5aa5af78"
      },
      "execution_count": 22,
      "outputs": [
        {
          "output_type": "execute_result",
          "data": {
            "text/plain": [
              "   60MHz  400MHz_ppm  400MHz_intensity  60MHz_ppm  60MHz_intensity\n",
              "0      0   -0.500000          0.000009  -0.500000         0.000410\n",
              "1      1   -0.498000          0.000009  -0.498000         0.000412\n",
              "2      2   -0.495999          0.000009  -0.495999         0.000414\n",
              "3      3   -0.493999          0.000009  -0.493999         0.000415\n",
              "4      4   -0.491999          0.000009  -0.491999         0.000417"
            ],
            "text/html": [
              "\n",
              "  <div id=\"df-64c06f83-ea86-4def-a4d7-08aea6e1b942\">\n",
              "    <div class=\"colab-df-container\">\n",
              "      <div>\n",
              "<style scoped>\n",
              "    .dataframe tbody tr th:only-of-type {\n",
              "        vertical-align: middle;\n",
              "    }\n",
              "\n",
              "    .dataframe tbody tr th {\n",
              "        vertical-align: top;\n",
              "    }\n",
              "\n",
              "    .dataframe thead th {\n",
              "        text-align: right;\n",
              "    }\n",
              "</style>\n",
              "<table border=\"1\" class=\"dataframe\">\n",
              "  <thead>\n",
              "    <tr style=\"text-align: right;\">\n",
              "      <th></th>\n",
              "      <th>60MHz</th>\n",
              "      <th>400MHz_ppm</th>\n",
              "      <th>400MHz_intensity</th>\n",
              "      <th>60MHz_ppm</th>\n",
              "      <th>60MHz_intensity</th>\n",
              "    </tr>\n",
              "  </thead>\n",
              "  <tbody>\n",
              "    <tr>\n",
              "      <th>0</th>\n",
              "      <td>0</td>\n",
              "      <td>-0.500000</td>\n",
              "      <td>0.000009</td>\n",
              "      <td>-0.500000</td>\n",
              "      <td>0.000410</td>\n",
              "    </tr>\n",
              "    <tr>\n",
              "      <th>1</th>\n",
              "      <td>1</td>\n",
              "      <td>-0.498000</td>\n",
              "      <td>0.000009</td>\n",
              "      <td>-0.498000</td>\n",
              "      <td>0.000412</td>\n",
              "    </tr>\n",
              "    <tr>\n",
              "      <th>2</th>\n",
              "      <td>2</td>\n",
              "      <td>-0.495999</td>\n",
              "      <td>0.000009</td>\n",
              "      <td>-0.495999</td>\n",
              "      <td>0.000414</td>\n",
              "    </tr>\n",
              "    <tr>\n",
              "      <th>3</th>\n",
              "      <td>3</td>\n",
              "      <td>-0.493999</td>\n",
              "      <td>0.000009</td>\n",
              "      <td>-0.493999</td>\n",
              "      <td>0.000415</td>\n",
              "    </tr>\n",
              "    <tr>\n",
              "      <th>4</th>\n",
              "      <td>4</td>\n",
              "      <td>-0.491999</td>\n",
              "      <td>0.000009</td>\n",
              "      <td>-0.491999</td>\n",
              "      <td>0.000417</td>\n",
              "    </tr>\n",
              "  </tbody>\n",
              "</table>\n",
              "</div>\n",
              "      <button class=\"colab-df-convert\" onclick=\"convertToInteractive('df-64c06f83-ea86-4def-a4d7-08aea6e1b942')\"\n",
              "              title=\"Convert this dataframe to an interactive table.\"\n",
              "              style=\"display:none;\">\n",
              "        \n",
              "  <svg xmlns=\"http://www.w3.org/2000/svg\" height=\"24px\"viewBox=\"0 0 24 24\"\n",
              "       width=\"24px\">\n",
              "    <path d=\"M0 0h24v24H0V0z\" fill=\"none\"/>\n",
              "    <path d=\"M18.56 5.44l.94 2.06.94-2.06 2.06-.94-2.06-.94-.94-2.06-.94 2.06-2.06.94zm-11 1L8.5 8.5l.94-2.06 2.06-.94-2.06-.94L8.5 2.5l-.94 2.06-2.06.94zm10 10l.94 2.06.94-2.06 2.06-.94-2.06-.94-.94-2.06-.94 2.06-2.06.94z\"/><path d=\"M17.41 7.96l-1.37-1.37c-.4-.4-.92-.59-1.43-.59-.52 0-1.04.2-1.43.59L10.3 9.45l-7.72 7.72c-.78.78-.78 2.05 0 2.83L4 21.41c.39.39.9.59 1.41.59.51 0 1.02-.2 1.41-.59l7.78-7.78 2.81-2.81c.8-.78.8-2.07 0-2.86zM5.41 20L4 18.59l7.72-7.72 1.47 1.35L5.41 20z\"/>\n",
              "  </svg>\n",
              "      </button>\n",
              "      \n",
              "  <style>\n",
              "    .colab-df-container {\n",
              "      display:flex;\n",
              "      flex-wrap:wrap;\n",
              "      gap: 12px;\n",
              "    }\n",
              "\n",
              "    .colab-df-convert {\n",
              "      background-color: #E8F0FE;\n",
              "      border: none;\n",
              "      border-radius: 50%;\n",
              "      cursor: pointer;\n",
              "      display: none;\n",
              "      fill: #1967D2;\n",
              "      height: 32px;\n",
              "      padding: 0 0 0 0;\n",
              "      width: 32px;\n",
              "    }\n",
              "\n",
              "    .colab-df-convert:hover {\n",
              "      background-color: #E2EBFA;\n",
              "      box-shadow: 0px 1px 2px rgba(60, 64, 67, 0.3), 0px 1px 3px 1px rgba(60, 64, 67, 0.15);\n",
              "      fill: #174EA6;\n",
              "    }\n",
              "\n",
              "    [theme=dark] .colab-df-convert {\n",
              "      background-color: #3B4455;\n",
              "      fill: #D2E3FC;\n",
              "    }\n",
              "\n",
              "    [theme=dark] .colab-df-convert:hover {\n",
              "      background-color: #434B5C;\n",
              "      box-shadow: 0px 1px 3px 1px rgba(0, 0, 0, 0.15);\n",
              "      filter: drop-shadow(0px 1px 2px rgba(0, 0, 0, 0.3));\n",
              "      fill: #FFFFFF;\n",
              "    }\n",
              "  </style>\n",
              "\n",
              "      <script>\n",
              "        const buttonEl =\n",
              "          document.querySelector('#df-64c06f83-ea86-4def-a4d7-08aea6e1b942 button.colab-df-convert');\n",
              "        buttonEl.style.display =\n",
              "          google.colab.kernel.accessAllowed ? 'block' : 'none';\n",
              "\n",
              "        async function convertToInteractive(key) {\n",
              "          const element = document.querySelector('#df-64c06f83-ea86-4def-a4d7-08aea6e1b942');\n",
              "          const dataTable =\n",
              "            await google.colab.kernel.invokeFunction('convertToInteractive',\n",
              "                                                     [key], {});\n",
              "          if (!dataTable) return;\n",
              "\n",
              "          const docLinkHtml = 'Like what you see? Visit the ' +\n",
              "            '<a target=\"_blank\" href=https://colab.research.google.com/notebooks/data_table.ipynb>data table notebook</a>'\n",
              "            + ' to learn more about interactive tables.';\n",
              "          element.innerHTML = '';\n",
              "          dataTable['output_type'] = 'display_data';\n",
              "          await google.colab.output.renderOutput(dataTable, element);\n",
              "          const docLink = document.createElement('div');\n",
              "          docLink.innerHTML = docLinkHtml;\n",
              "          element.appendChild(docLink);\n",
              "        }\n",
              "      </script>\n",
              "    </div>\n",
              "  </div>\n",
              "  "
            ]
          },
          "metadata": {},
          "execution_count": 22
        }
      ]
    },
    {
      "cell_type": "code",
      "source": [
        "predictions_df = get_predictions(model, df)"
      ],
      "metadata": {
        "colab": {
          "base_uri": "https://localhost:8080/",
          "height": 294
        },
        "id": "Nf1idyvIFsGo",
        "outputId": "be42fc79-4992-487f-dea4-0bfe232601b0"
      },
      "execution_count": 23,
      "outputs": [
        {
          "output_type": "error",
          "ename": "ValueError",
          "evalue": "ignored",
          "traceback": [
            "\u001b[0;31m---------------------------------------------------------------------------\u001b[0m",
            "\u001b[0;31mValueError\u001b[0m                                Traceback (most recent call last)",
            "\u001b[0;32m<ipython-input-23-ea4c48cf909d>\u001b[0m in \u001b[0;36m<cell line: 1>\u001b[0;34m()\u001b[0m\n\u001b[0;32m----> 1\u001b[0;31m \u001b[0mpredictions_df\u001b[0m \u001b[0;34m=\u001b[0m \u001b[0mget_predictions\u001b[0m\u001b[0;34m(\u001b[0m\u001b[0mmodel\u001b[0m\u001b[0;34m,\u001b[0m \u001b[0mdf\u001b[0m\u001b[0;34m)\u001b[0m\u001b[0;34m\u001b[0m\u001b[0;34m\u001b[0m\u001b[0m\n\u001b[0m",
            "\u001b[0;32m<ipython-input-5-79430af23c82>\u001b[0m in \u001b[0;36mget_predictions\u001b[0;34m(model, test_dataloader)\u001b[0m\n\u001b[1;32m      9\u001b[0m     \u001b[0;32mwith\u001b[0m \u001b[0mtorch\u001b[0m\u001b[0;34m.\u001b[0m\u001b[0mno_grad\u001b[0m\u001b[0;34m(\u001b[0m\u001b[0;34m)\u001b[0m\u001b[0;34m:\u001b[0m\u001b[0;34m\u001b[0m\u001b[0;34m\u001b[0m\u001b[0m\n\u001b[1;32m     10\u001b[0m         \u001b[0;31m# Iterate over the test dataloader\u001b[0m\u001b[0;34m\u001b[0m\u001b[0;34m\u001b[0m\u001b[0m\n\u001b[0;32m---> 11\u001b[0;31m         \u001b[0;32mfor\u001b[0m \u001b[0minputs\u001b[0m\u001b[0;34m,\u001b[0m \u001b[0m_\u001b[0m \u001b[0;32min\u001b[0m \u001b[0mtest_dataloader\u001b[0m\u001b[0;34m:\u001b[0m\u001b[0;34m\u001b[0m\u001b[0;34m\u001b[0m\u001b[0m\n\u001b[0m\u001b[1;32m     12\u001b[0m             \u001b[0;31m# Get the model predictions for the given inputs\u001b[0m\u001b[0;34m\u001b[0m\u001b[0;34m\u001b[0m\u001b[0m\n\u001b[1;32m     13\u001b[0m             \u001b[0mpredictions\u001b[0m \u001b[0;34m=\u001b[0m \u001b[0mmodel\u001b[0m\u001b[0;34m(\u001b[0m\u001b[0minputs\u001b[0m\u001b[0;34m)\u001b[0m\u001b[0;34m\u001b[0m\u001b[0;34m\u001b[0m\u001b[0m\n",
            "\u001b[0;31mValueError\u001b[0m: too many values to unpack (expected 2)"
          ]
        }
      ]
    },
    {
      "cell_type": "markdown",
      "source": [
        "#### Save the output prediction"
      ],
      "metadata": {
        "id": "Lp6qXZEAQa58"
      }
    },
    {
      "cell_type": "code",
      "source": [
        "predictions_df.to_csv('prediction_output.csv')"
      ],
      "metadata": {
        "id": "X1LH2GgPQBCR"
      },
      "execution_count": null,
      "outputs": []
    },
    {
      "cell_type": "markdown",
      "source": [
        "### Developer Part"
      ],
      "metadata": {
        "id": "Lxq63DZDTGeH"
      }
    },
    {
      "cell_type": "code",
      "execution_count": null,
      "metadata": {
        "colab": {
          "base_uri": "https://localhost:8080/",
          "height": 472
        },
        "id": "o0gkX2lvHfF3",
        "outputId": "c8538796-642a-4f83-fc78-9d3e3fdabb12"
      },
      "outputs": [
        {
          "data": {
            "image/png": "[encoded data removed]",
            "text/plain": [
              "<Figure size 640x480 with 1 Axes>"
            ]
          },
          "metadata": {},
          "output_type": "display_data"
        }
      ],
      "source": [
        "file_path = '/content/drive/My Drive/spectral_data/test400/400MHz/spectral_data_09_00000.csv'\n",
        "input_column_name = '60MHz_intensity'\n",
        "input_ppm_column_name = '60MHz_ppm'\n",
        "output_ppm_column_name = '400MHz_ppm'\n",
        "\n",
        "fig = generate_high_res_plot(model, file_path, input_column_name, input_ppm_column_name, output_ppm_column_name)\n",
        "matplotlib.pyplot.show()\n"
      ]
    }
  ],
  "metadata": {
    "accelerator": "GPU",
    "colab": {
      "collapsed_sections": [
        "7DCdH75R56Vb",
        "A6GVnTZh6iEH",
        "qSDSi6HQ_sqn",
        "n6A9cVddDAl9"
      ],
      "gpuType": "T4",
      "provenance": [],
      "toc_visible": true
    },
    "gpuClass": "standard",
    "kernelspec": {
      "display_name": "Python 3",
      "name": "python3"
    },
    "language_info": {
      "codemirror_mode": {
        "name": "ipython",
        "version": 3
      },
      "file_extension": ".py",
      "mimetype": "text/x-python",
      "name": "python",
      "nbconvert_exporter": "python",
      "pygments_lexer": "ipython3",
      "version": "3.9.12"
    },
    "widgets": {
      "application/vnd.jupyter.widget-state+json": {
        "de6bcbbc1e9e4aae819c39e51408a209": {
          "model_module": "@jupyter-widgets/controls",
          "model_name": "FileUploadModel",
          "model_module_version": "1.5.0",
          "state": {
            "_counter": 1,
            "_dom_classes": [],
            "_model_module": "@jupyter-widgets/controls",
            "_model_module_version": "1.5.0",
            "_model_name": "FileUploadModel",
            "_view_count": null,
            "_view_module": "@jupyter-widgets/controls",
            "_view_module_version": "1.5.0",
            "_view_name": "FileUploadView",
            "accept": ".csv",
            "button_style": "",
            "data": [
              null
            ],
            "description": "Upload",
            "description_tooltip": null,
            "disabled": false,
            "error": "",
            "icon": "upload",
            "layout": "IPY_MODEL_0764c21419a549bebcb8c26df7852275",
            "metadata": [
              {
                "name": "spectral_data_14_00009.csv",
                "type": "text/csv",
                "size": 466188,
                "lastModified": 1685725712953
              }
            ],
            "multiple": false,
            "style": "IPY_MODEL_4b268199561a49caaa191d8293232bdd"
          }
        },
        "0764c21419a549bebcb8c26df7852275": {
          "model_module": "@jupyter-widgets/base",
          "model_name": "LayoutModel",
          "model_module_version": "1.2.0",
          "state": {
            "_model_module": "@jupyter-widgets/base",
            "_model_module_version": "1.2.0",
            "_model_name": "LayoutModel",
            "_view_count": null,
            "_view_module": "@jupyter-widgets/base",
            "_view_module_version": "1.2.0",
            "_view_name": "LayoutView",
            "align_content": null,
            "align_items": null,
            "align_self": null,
            "border": null,
            "bottom": null,
            "display": null,
            "flex": null,
            "flex_flow": null,
            "grid_area": null,
            "grid_auto_columns": null,
            "grid_auto_flow": null,
            "grid_auto_rows": null,
            "grid_column": null,
            "grid_gap": null,
            "grid_row": null,
            "grid_template_areas": null,
            "grid_template_columns": null,
            "grid_template_rows": null,
            "height": null,
            "justify_content": null,
            "justify_items": null,
            "left": null,
            "margin": null,
            "max_height": null,
            "max_width": null,
            "min_height": null,
            "min_width": null,
            "object_fit": null,
            "object_position": null,
            "order": null,
            "overflow": null,
            "overflow_x": null,
            "overflow_y": null,
            "padding": null,
            "right": null,
            "top": null,
            "visibility": null,
            "width": null
          }
        },
        "4b268199561a49caaa191d8293232bdd": {
          "model_module": "@jupyter-widgets/controls",
          "model_name": "ButtonStyleModel",
          "model_module_version": "1.5.0",
          "state": {
            "_model_module": "@jupyter-widgets/controls",
            "_model_module_version": "1.5.0",
            "_model_name": "ButtonStyleModel",
            "_view_count": null,
            "_view_module": "@jupyter-widgets/base",
            "_view_module_version": "1.2.0",
            "_view_name": "StyleView",
            "button_color": null,
            "font_weight": ""
          }
        }
      }
    }
  },
  "nbformat": 4,
  "nbformat_minor": 0
}
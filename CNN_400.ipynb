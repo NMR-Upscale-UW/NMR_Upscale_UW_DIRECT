{
 "cells": [
  {
   "cell_type": "code",
   "execution_count": 3,
   "id": "0fbc309f-cc21-4eab-b90b-9a316a4a7a46",
   "metadata": {
    "tags": []
   },
   "outputs": [
    {
     "name": "stdout",
     "output_type": "stream",
     "text": [
      "Using cpu device\n"
     ]
    }
   ],
   "source": [
    "# Loading in libraries necessary for CNN\n",
    "import torch\n",
    "import torch.nn as nn\n",
    "import numpy as np\n",
    "import os\n",
    "import glob\n",
    "from torch.utils.data import Dataset, DataLoader, TensorDataset\n",
    "import pandas as pd\n",
    "from torch.nn import Linear, ReLU, CrossEntropyLoss, Sequential, Conv2d, MaxPool2d, Module, Softmax, BatchNorm2d, Dropout\n",
    "from torch.optim import Adam, SGD, Adagrad, RMSprop, SparseAdam, LBFGS, Adadelta\n",
    "from sklearn.model_selection import train_test_split\n",
    "import math\n",
    "import matplotlib.pyplot\n",
    "import time\n",
    "import torch.nn.functional as F\n",
    "import nmrsim\n",
    "from nmrsim import plt\n",
    "from itertools import product\n",
    "\n",
    "# whether to run on GPU or CPU\n",
    "device = torch.device('cuda' if torch.cuda.is_available() else 'cpu')\n",
    "print(f\"Using {device} device\")\n",
    "#print(torch.cuda.get_device_name(0))"
   ]
  },
  {
   "cell_type": "code",
   "execution_count": 4,
   "id": "c766a858-8740-45da-8d9d-2776f23633d0",
   "metadata": {
    "tags": []
   },
   "outputs": [
    {
     "name": "stdout",
     "output_type": "stream",
     "text": [
      "Total number of files:  100\n"
     ]
    }
   ],
   "source": [
    "#Checking how many files are in repository for training, testing, and validation\n",
    "files = glob.glob('/home/fostooq/NMR_Upscale_UW_DIRECT/spectral_data/400MHz/spectral_data_*.csv')\n",
    "print('Total number of files: ', len(files))\n"
   ]
  },
  {
   "cell_type": "markdown",
   "id": "b13bcae0-0c7f-451e-9cf8-1158cd036411",
   "metadata": {},
   "source": [
    "Establishing a Dataloader for 400MHz dataset"
   ]
  },
  {
   "cell_type": "code",
   "execution_count": 5,
   "id": "d1db4476-3487-45a3-966f-82dc26c48883",
   "metadata": {
    "tags": []
   },
   "outputs": [],
   "source": [
    "class GHzData(Dataset):\n",
    "    def __init__(self):\n",
    "        # Data loading starting with list of csv strings\n",
    "        self.files = glob.glob(os.path.join('/home/fostooq/NMR_Upscale_UW_DIRECT/spectral_data/400MHz/spectral_data_*.csv'))\n",
    "\n",
    "        self.y_60 = [] # Establishes a list for 60 MHz data\n",
    "        self.y_400 = [] # Establishes a list for 400 MHz data\n",
    "\n",
    "        for self.file in self.files: # For loop for each file in files\n",
    "            self.df = pd.read_csv(self.file) # Reads each into a pandas dataframe\n",
    "            self.array_60 = self.df['60MHz_intensity'].to_numpy() # Takes 60MHz intensity to np\n",
    "            self.array_400 = self.df['400MHz_intensity'].to_numpy() # Takes 400MHz intensity to np\n",
    "            self.y_60.append(self.array_60) # Appends all arrays to 60MHz list\n",
    "            self.y_400.append(self.array_400) # Appends all arrays to 400MHz list\n",
    "            \n",
    "        # Creates a 60 MHz tensor from list, converts to float, unsqueezes to have shape (n, 1, 5500)\n",
    "        self.tensor_60 = torch.Tensor(self.y_60).float().unsqueeze(1).to(device)        \n",
    "\n",
    "        # Creates a 400 MHz tensor from list, converts to float, unsqueezes to have shape (n, 1, 5500)\n",
    "        self.tensor_400 = torch.Tensor(self.y_400).float().unsqueeze(1).to(device)\n",
    "        \n",
    "        # Track the length of number of samples in frame\n",
    "        self.num_samples = len(self.y_60)\n",
    "\n",
    "    def __getitem__(self, index): # establishes an index for the tensors\n",
    "        return self.tensor_60[index], self.tensor_400[index]\n",
    "    \n",
    "    def __len__(self): # Returns variable number of samples\n",
    "        return self.num_samples\n",
    "    \n",
    "  "
   ]
  },
  {
   "cell_type": "code",
   "execution_count": 6,
   "id": "4d27cd0c-1a07-4f1b-b957-b4bcec7c17a4",
   "metadata": {
    "tags": []
   },
   "outputs": [],
   "source": [
    "class NeuralNetwork(nn.Module):\n",
    "    def __init__(self):\n",
    "        super(NeuralNetwork, self).__init__()\n",
    "        self.fc1 = nn.Conv1d(in_channels= 1,out_channels= 128, kernel_size= 3, padding='same') # input layer to hidden\n",
    "        self.relu = nn.ReLU() # activation function\n",
    "        self.fc2 = nn.Conv1d(in_channels=128,out_channels=128,kernel_size= 3, padding='same') # input layer to output\n",
    "        self.relu2 = nn.ReLU()\n",
    "        self.fc3 = nn.Conv1d(in_channels=128,out_channels=128,kernel_size= 3, padding='same')\n",
    "        self.relu3 = nn.ReLU()\n",
    "        self.fc4 = nn.Conv1d(in_channels=128, out_channels=128,kernel_size= 3, padding='same')\n",
    "        self.relu4 = nn.ReLU()\n",
    "        self.fc5 = nn.Conv1d(in_channels=128,out_channels= 1,kernel_size= 3, padding='same')\n",
    "            \n",
    "    def forward(self, x):  # Forward loop for the neural network\n",
    "        x = self.fc1(x)\n",
    "        x = self.relu(x)\n",
    "        x = self.fc2(x)\n",
    "        x = self.relu2(x)\n",
    "        x = self.fc3(x)\n",
    "        x = self.relu3(x)\n",
    "        x = self.fc4(x)\n",
    "        x = self.relu4(x)\n",
    "        x = self.fc5(x)\n",
    "        return x"
   ]
  },
  {
   "cell_type": "code",
   "execution_count": 7,
   "id": "25ba8f93-ba38-4c86-a0c9-5a3bf1ab46ce",
   "metadata": {
    "tags": []
   },
   "outputs": [],
   "source": [
    "model = NeuralNetwork().to(device) # Assigns model to variable model, sends to gpu"
   ]
  },
  {
   "cell_type": "code",
   "execution_count": 8,
   "id": "b074adcf-0cd6-44d5-b922-dfd32bba832e",
   "metadata": {
    "tags": []
   },
   "outputs": [
    {
     "name": "stderr",
     "output_type": "stream",
     "text": [
      "/tmp/ipykernel_867/2363034091.py:17: UserWarning: Creating a tensor from a list of numpy.ndarrays is extremely slow. Please consider converting the list to a single numpy.ndarray with numpy.array() before converting to a tensor. (Triggered internally at ../torch/csrc/utils/tensor_new.cpp:230.)\n",
      "  self.tensor_60 = torch.Tensor(self.y_60).float().unsqueeze(1).to(device)\n"
     ]
    }
   ],
   "source": [
    "# Establishing and loading data into notebook\n",
    "dataset = GHzData()\n",
    "\n",
    "#Splitting the data\n",
    "train_X, test_X, train_y, test_y = train_test_split(dataset.tensor_60, dataset.tensor_400,\n",
    "                                                    test_size=0.1)\n",
    "\n",
    "# Splits train data into validation data\n",
    "train_X, valid_X, train_y, valid_y = train_test_split(train_X, train_y,\n",
    "                                                      test_size=0.1)\n",
    "# Creating datasets\n",
    "train_dataset = TensorDataset(train_X, train_y)\n",
    "test_dataset = TensorDataset(test_X, test_y)\n",
    "valid_dataset = TensorDataset(valid_X, valid_y)\n",
    "\n",
    "# Batch size change to higher batch sizes\n",
    "train_dataloader = DataLoader(train_dataset, batch_size=32, shuffle=True)\n",
    "valid_dataloader = DataLoader(valid_dataset, batch_size=32, shuffle=True)\n",
    "test_dataloader = DataLoader(test_dataset, batch_size=128, shuffle=True)"
   ]
  },
  {
   "cell_type": "code",
   "execution_count": 9,
   "id": "d12cf037",
   "metadata": {},
   "outputs": [
    {
     "data": {
      "text/plain": [
       "torch.Size([1, 5500])"
      ]
     },
     "execution_count": 9,
     "metadata": {},
     "output_type": "execute_result"
    }
   ],
   "source": [
    "train_dataset[0][0].size()"
   ]
  },
  {
   "cell_type": "code",
   "execution_count": 10,
   "id": "4ab267e0-afa6-498a-ac2c-8a6afebcfa5d",
   "metadata": {
    "tags": []
   },
   "outputs": [],
   "source": [
    "criterion = nn.MSELoss() # Loss function for the model"
   ]
  },
  {
   "cell_type": "code",
   "execution_count": 11,
   "id": "767eae75-b1ed-4f08-9c57-f4c34b7ea141",
   "metadata": {
    "tags": []
   },
   "outputs": [],
   "source": [
    "#RMSprop and Adam seems to work ptetty well\n",
    "optimizer = RMSprop(model.parameters(), lr=0.001) # Optimization function"
   ]
  },
  {
   "cell_type": "code",
   "execution_count": 12,
   "id": "8c7e95e4-fc5d-4a2c-939f-a00869141f5d",
   "metadata": {},
   "outputs": [],
   "source": [
    "num_epochs = 30 # Number of epochs to run model"
   ]
  },
  {
   "cell_type": "code",
   "execution_count": 13,
   "id": "bb2ce1c1-e120-4675-a0f2-24db74a56a58",
   "metadata": {
    "scrolled": true,
    "tags": []
   },
   "outputs": [
    {
     "name": "stdout",
     "output_type": "stream",
     "text": [
      "Epoch 0 loss: 0.0032\n",
      "Epoch 10 loss: 0.0001\n",
      "Epoch 20 loss: 0.0001\n",
      "Time Elapsed: 163.6719 seconds\n"
     ]
    }
   ],
   "source": [
    "time_ = time.time() # Assigns time to variable time_\n",
    "\n",
    "train_loss_epoch = []\n",
    "valid_loss_epoch = []\n",
    "\n",
    "for e in range(num_epochs):\n",
    "    running_loss = 0.0\n",
    "    \n",
    "    for index, (inputs, labels) in enumerate(train_dataloader):\n",
    "        #inputs = inputs.squeeze(1)\n",
    "        inputs = inputs.to(device)\n",
    "        labels = labels.to(device)\n",
    "        \n",
    "        optimizer.zero_grad()\n",
    "        outputs = model(inputs)\n",
    "        \n",
    "        loss = criterion(outputs, labels)\n",
    "        loss.backward()\n",
    "        \n",
    "        optimizer.step()\n",
    "        \n",
    "        running_loss += loss.item() * inputs.size(1)\n",
    "    \n",
    "    epoch_loss = running_loss / len(train_dataloader.dataset)\n",
    "    train_loss_epoch.append(epoch_loss)\n",
    "    \n",
    "    model.eval() # Model to evaluation mode\n",
    "    valid_loss = 0.0\n",
    "    valid_correct = 0\n",
    "    valid_total = 0\n",
    "    loss_list_test = []\n",
    "\n",
    "    # Loop for testing\n",
    "    for inputs, labels in valid_dataloader:\n",
    "        #Forward pass\n",
    "        outputs = model(inputs)\n",
    "        loss = criterion(outputs, labels)\n",
    "        valid_loss += loss.item() * inputs.size(1)\n",
    "\n",
    "        _, labels = torch.min(labels, 1)\n",
    "        _, predicts = torch.min(outputs.data, 1)\n",
    "        predicts = predicts.unsqueeze(1)\n",
    "        valid_total += labels.size(0)\n",
    "        valid_correct += (predicts == labels).float().mean()\n",
    "        \n",
    "    epoch_loss = valid_loss / len(valid_dataloader.dataset)\n",
    "    valid_loss_epoch.append(epoch_loss)  \n",
    "           \n",
    "    \n",
    "    if(int(e) % 10) == 0:\n",
    "        print(f'Epoch {e} loss: {epoch_loss:.4f}')\n",
    "\n",
    "print(f'Time Elapsed: {round(time.time()-time_, 5)} seconds')\n"
   ]
  },
  {
   "cell_type": "code",
   "execution_count": null,
   "id": "8a934054-d70f-4746-9633-793ef8ff7631",
   "metadata": {
    "tags": []
   },
   "outputs": [],
   "source": [
    "# valid_loss_epoch = []\n",
    "\n",
    "# for e in range(num_epochs):\n",
    "#     running_loss = 0.0\n",
    "#     loss_list_valid = []\n",
    "     \n",
    "#     model.eval() # Model to evaluation mode\n",
    "\n",
    "#     valid_loss = 0.0\n",
    "#     valid_correct = 0\n",
    "#     valid_total = 0\n",
    "#     loss_list_test = []\n",
    "\n",
    "#     # Loop for testing\n",
    "#     for inputs, labels in valid_dataloader:\n",
    "#         #Forward pass\n",
    "#         outputs = model(inputs)\n",
    "#         loss = criterion(outputs, labels)\n",
    "#         valid_loss += loss.item() * inputs.size(1)\n",
    "\n",
    "#         _, labels = torch.min(labels, 1)\n",
    "#         _, predicts = torch.min(outputs.data, 1)\n",
    "#         predicts = predicts.unsqueeze(1)\n",
    "#         valid_total += labels.size(0)\n",
    "#         valid_correct += (predicts == labels).float().mean()\n",
    "        \n",
    "#     epoch_loss = valid_loss / len(valid_dataloader.dataset)\n",
    "#     valid_loss_epoch.append(epoch_loss)  \n"
   ]
  },
  {
   "cell_type": "code",
   "execution_count": 14,
   "id": "908ab7b8-3331-4c33-8317-784aa259894a",
   "metadata": {
    "tags": []
   },
   "outputs": [
    {
     "data": {
      "image/png": "[encoded data removed]",
      "text/plain": [
       "<Figure size 640x480 with 1 Axes>"
      ]
     },
     "metadata": {},
     "output_type": "display_data"
    }
   ],
   "source": [
    "x = np.linspace(1, num_epochs, num_epochs)\n",
    "\n",
    "fig, ax = matplotlib.pyplot.subplots()\n",
    "ax.plot(x, valid_loss_epoch, label='Validation Loss')\n",
    "ax.plot(x, train_loss_epoch, label='Training Loss' )\n",
    "\n",
    "matplotlib.pyplot.ylim([0.0, 0.001])\n",
    "matplotlib.pyplot.xlabel('Number of Epochs')\n",
    "matplotlib.pyplot.ylabel('Loss')\n",
    "matplotlib.pyplot.legend()\n",
    "matplotlib.pyplot.show()"
   ]
  },
  {
   "cell_type": "code",
   "execution_count": 15,
   "id": "9c344731-cb9e-47f7-a9ea-fff4b258bef6",
   "metadata": {
    "tags": []
   },
   "outputs": [
    {
     "name": "stdout",
     "output_type": "stream",
     "text": [
      " Mean Loss of Function: 6.996113806962967e-05, Accuracy: 10.0\n",
      "torch.Size([10, 5500]) torch.Size([10, 1, 5500])\n"
     ]
    }
   ],
   "source": [
    "# Evaluating Model Performance with Test Data\n",
    "\n",
    "model.eval() # Model to evaluation mode\n",
    "\n",
    "test_loss = 0.0\n",
    "test_correct = 0\n",
    "test_total = 0\n",
    "loss_list_test = []\n",
    "\n",
    "# Loop for testing\n",
    "for inputs, labels in test_dataloader:\n",
    "    #Forward pass\n",
    "    outputs = model(inputs)\n",
    "    loss = criterion(outputs, labels)\n",
    "    test_loss += loss.item() * inputs.size(1)\n",
    "    loss_list_test.append(loss)\n",
    "    \n",
    "    _, labels = torch.min(labels, 1)\n",
    "    _, predicts = torch.min(outputs.data, 1)\n",
    "    predicts = predicts.unsqueeze(1)\n",
    "    test_total += labels.size(0)\n",
    "    test_correct += (predicts == labels).float().mean()\n",
    "\n",
    "accuracy = (test_correct / test_total)*100\n",
    "test_loss /= len(test_dataloader.dataset)\n",
    "print(f' Mean Loss of Function: {test_loss}, Accuracy: {accuracy}')\n",
    "print(labels.shape, outputs.shape)"
   ]
  },
  {
   "cell_type": "code",
   "execution_count": 16,
   "id": "4b81757e-bcf7-4219-9277-19850d0edb55",
   "metadata": {
    "tags": []
   },
   "outputs": [],
   "source": [
    "model.eval()\n",
    "with torch.no_grad():\n",
    "    for inputs, _ in test_dataloader:\n",
    "        predictions = model(inputs)\n",
    "\n",
    "predictions_numpy = predictions.cpu().numpy().reshape(10,-1)\n",
    "pred = pd.DataFrame(predictions_numpy)"
   ]
  },
  {
   "cell_type": "code",
   "execution_count": 17,
   "id": "4fdb3954",
   "metadata": {},
   "outputs": [
    {
     "data": {
      "text/plain": [
       "(10, 5500)"
      ]
     },
     "execution_count": 17,
     "metadata": {},
     "output_type": "execute_result"
    }
   ],
   "source": [
    "predictions_numpy.shape"
   ]
  },
  {
   "cell_type": "code",
   "execution_count": 18,
   "id": "d5d91cd3-1e3b-4cfe-9083-3fdd77857096",
   "metadata": {
    "tags": []
   },
   "outputs": [],
   "source": [
    "df_60 = pd.read_csv('/home/fostooq/NMR_Upscale_UW_DIRECT/spectral_data/400MHz/spectral_data_11_00022.csv')\n",
    "df_x = df_60['60MHz_intensity']\n",
    "df_x = df_x.to_numpy()\n",
    "df_x = torch.Tensor(df_x).unsqueeze(0).unsqueeze(1).to(device)"
   ]
  },
  {
   "cell_type": "code",
   "execution_count": 19,
   "id": "92e5951e",
   "metadata": {},
   "outputs": [
    {
     "data": {
      "text/plain": [
       "torch.Size([1, 1, 5500])"
      ]
     },
     "execution_count": 19,
     "metadata": {},
     "output_type": "execute_result"
    }
   ],
   "source": [
    "df_x.size()"
   ]
  },
  {
   "cell_type": "code",
   "execution_count": 20,
   "id": "5950abca-3ecc-475a-88a1-b0779dd1629b",
   "metadata": {
    "tags": []
   },
   "outputs": [],
   "source": [
    "predictions = model(df_x)\n",
    "predictions_numpy = predictions.detach().cpu().numpy()\n",
    "predictions_numpy=predictions_numpy.reshape(-1)"
   ]
  },
  {
   "cell_type": "code",
   "execution_count": 21,
   "id": "d0a7efc0-fdcb-4537-baf5-64498cb3f09c",
   "metadata": {
    "tags": []
   },
   "outputs": [
    {
     "data": {
      "image/png": "[encoded data removed]",
      "text/plain": [
       "<Figure size 640x480 with 1 Axes>"
      ]
     },
     "metadata": {},
     "output_type": "display_data"
    },
    {
     "data": {
      "text/plain": [
       "(0       -0.500000\n",
       " 1       -0.498000\n",
       " 2       -0.495999\n",
       " 3       -0.493999\n",
       " 4       -0.491999\n",
       "           ...    \n",
       " 5495    10.491999\n",
       " 5496    10.493999\n",
       " 5497    10.495999\n",
       " 5498    10.498000\n",
       " 5499    10.500000\n",
       " Name: 60MHz_ppm, Length: 5500, dtype: float64,\n",
       " 0       0.000298\n",
       " 1       0.000300\n",
       " 2       0.000301\n",
       " 3       0.000302\n",
       " 4       0.000304\n",
       "           ...   \n",
       " 5495    0.000051\n",
       " 5496    0.000051\n",
       " 5497    0.000051\n",
       " 5498    0.000051\n",
       " 5499    0.000051\n",
       " Name: 60MHz_intensity, Length: 5500, dtype: float64)"
      ]
     },
     "execution_count": 21,
     "metadata": {},
     "output_type": "execute_result"
    }
   ],
   "source": [
    "nmrsim.plt.mplplot_lineshape(df_60['60MHz_ppm'], df_60['60MHz_intensity'], limits=(-0.5, 10.5))"
   ]
  },
  {
   "cell_type": "code",
   "execution_count": 22,
   "id": "60162ada",
   "metadata": {},
   "outputs": [
    {
     "data": {
      "text/plain": [
       "(0.0026538744366485715, 0.00044581554280110697)"
      ]
     },
     "execution_count": 22,
     "metadata": {},
     "output_type": "execute_result"
    }
   ],
   "source": [
    "predictions_numpy.shape\n",
    "\n",
    "\n",
    "np.square(predictions_numpy - df_60['60MHz_intensity']).mean(), np.square(predictions_numpy - df_60['400MHz_intensity']).mean()"
   ]
  },
  {
   "cell_type": "code",
   "execution_count": 23,
   "id": "32c4a778-ca99-40c3-8788-399b1deb9e50",
   "metadata": {
    "tags": []
   },
   "outputs": [
    {
     "data": {
      "image/png": "[encoded data removed]",
      "text/plain": [
       "<Figure size 640x480 with 1 Axes>"
      ]
     },
     "metadata": {},
     "output_type": "display_data"
    },
    {
     "data": {
      "text/plain": [
       "(array([-0.5       , -0.49799964, -0.49599927, ..., 10.49599927,\n",
       "        10.49799964, 10.5       ]),\n",
       " array([0.0021882 , 0.00629792, 0.00662401, ..., 0.01160867, 0.01348886,\n",
       "        0.01608794], dtype=float32))"
      ]
     },
     "execution_count": 23,
     "metadata": {},
     "output_type": "execute_result"
    }
   ],
   "source": [
    "\n",
    "x = np.linspace(-.5,10.5,5500)\n",
    "y = predictions_numpy\n",
    "\n",
    "\n",
    "nmrsim.plt.mplplot_lineshape(x, y, limits=(-0.5, 10.5))"
   ]
  },
  {
   "cell_type": "code",
   "execution_count": 24,
   "id": "e826cff8-48f8-4218-a324-d74e53839e0e",
   "metadata": {
    "tags": []
   },
   "outputs": [
    {
     "data": {
      "image/png": "[encoded data removed]",
      "text/plain": [
       "<Figure size 640x480 with 1 Axes>"
      ]
     },
     "metadata": {},
     "output_type": "display_data"
    },
    {
     "data": {
      "text/plain": [
       "(array([-0.5       , -0.49799964, -0.49599927, ..., 10.49599927,\n",
       "        10.49799964, 10.5       ]),\n",
       " array([6.65546162e-06, 6.68691339e-06, 6.71868908e-06, ...,\n",
       "        1.15070098e-06, 1.14973846e-06, 1.14877722e-06]))"
      ]
     },
     "execution_count": 24,
     "metadata": {},
     "output_type": "execute_result"
    }
   ],
   "source": [
    "nmrsim.plt.mplplot_lineshape(np.array(df_60['400MHz_ppm']), np.array(df_60['400MHz_intensity']), limits=(-0.5, 10.5))"
   ]
  },
  {
   "cell_type": "code",
   "execution_count": 25,
   "id": "6ebb0953-0686-41e8-872c-9672a6de63de",
   "metadata": {},
   "outputs": [
    {
     "name": "stdout",
     "output_type": "stream",
     "text": [
      "torch.Size([100, 1, 5500])\n",
      "torch.Size([100, 5500])\n"
     ]
    }
   ],
   "source": [
    "test = glob.glob(os.path.join('/home/fostooq/NMR_Upscale_UW_DIRECT/spectral_data/400MHz/spectral_data_*.csv'))\n",
    "\n",
    "y_60 = []\n",
    "y_400 = []\n",
    "\n",
    "for file in test:\n",
    "    df = pd.read_csv(file)\n",
    "    array_60 = df['60MHz_intensity'].to_numpy()\n",
    "    array_400 = df['400MHz_intensity'].to_numpy()\n",
    "    y_60.append(array_60)\n",
    "    y_400.append(array_400)\n",
    "\n",
    "tensor = torch.Tensor(y_400)\n",
    "reshaped_tensor = tensor.unsqueeze(1)\n",
    "reshaped_tensor_2 = reshaped_tensor.squeeze(1)\n",
    "\n",
    "print(reshaped_tensor.shape)\n",
    "print(reshaped_tensor_2.shape)"
   ]
  },
  {
   "cell_type": "code",
   "execution_count": null,
   "id": "2072c108-a76a-4a4b-b2c6-b4c6fa48e3fa",
   "metadata": {},
   "outputs": [],
   "source": []
  },
  {
   "cell_type": "code",
   "execution_count": null,
   "id": "d398fd9b-709c-4b82-b2ac-a946eeec4986",
   "metadata": {},
   "outputs": [],
   "source": []
  },
  {
   "cell_type": "code",
   "execution_count": null,
   "id": "28ff8df6-ef01-4c8a-bc54-937398642f73",
   "metadata": {},
   "outputs": [],
   "source": []
  }
 ],
 "metadata": {
  "kernelspec": {
   "display_name": "Python 3 (ipykernel)",
   "language": "python",
   "name": "python3"
  },
  "language_info": {
   "codemirror_mode": {
    "name": "ipython",
    "version": 3
   },
   "file_extension": ".py",
   "mimetype": "text/x-python",
   "name": "python",
   "nbconvert_exporter": "python",
   "pygments_lexer": "ipython3",
   "version": "3.10.8"
  }
 },
 "nbformat": 4,
 "nbformat_minor": 5
}
